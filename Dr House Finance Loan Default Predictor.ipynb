{
 "cells": [
  {
   "cell_type": "markdown",
   "id": "62afdd4b",
   "metadata": {},
   "source": [
    "## Project Flow\n",
    "- Load Dataset\n",
    "- EDA\n",
    "- Create Baseline Models\n",
    "- Feature Engineering, Transformations & Feature Selections\n",
    "- Cross Validation of Models\n",
    "- Finalise Dataset\n",
    "- Model Selection via CV\n",
    "- HyperParameter Tuning of Selected Model\n",
    "- Train Tuned Model using Entire new Data\n",
    "- Save & Deploy Data\n",
    "- Predict"
   ]
  },
  {
   "cell_type": "code",
   "execution_count": 1,
   "id": "00709632",
   "metadata": {},
   "outputs": [],
   "source": [
    "import pandas as pd\n",
    "import numpy as np\n",
    "import seaborn as sns\n",
    "import matplotlib.pyplot as plt\n",
    "\n",
    "import warnings\n",
    "warnings.filterwarnings(\"ignore\")\n",
    "\n",
    "pd.set_option('display.max_columns', None)"
   ]
  },
  {
   "cell_type": "code",
   "execution_count": 2,
   "id": "f736705a",
   "metadata": {},
   "outputs": [
    {
     "data": {
      "text/plain": [
       "(614, 13)"
      ]
     },
     "execution_count": 2,
     "metadata": {},
     "output_type": "execute_result"
    }
   ],
   "source": [
    "train = pd.read_csv('train.csv')\n",
    "train.shape"
   ]
  },
  {
   "cell_type": "code",
   "execution_count": 3,
   "id": "b8ad0eda",
   "metadata": {},
   "outputs": [],
   "source": [
    "test = pd.read_csv('test.csv')\n",
    "test.shape\n",
    "\n",
    "test_backup = test.copy()"
   ]
  },
  {
   "cell_type": "code",
   "execution_count": 4,
   "id": "a4f70aad",
   "metadata": {},
   "outputs": [
    {
     "data": {
      "text/html": [
       "<div>\n",
       "<style scoped>\n",
       "    .dataframe tbody tr th:only-of-type {\n",
       "        vertical-align: middle;\n",
       "    }\n",
       "\n",
       "    .dataframe tbody tr th {\n",
       "        vertical-align: top;\n",
       "    }\n",
       "\n",
       "    .dataframe thead th {\n",
       "        text-align: right;\n",
       "    }\n",
       "</style>\n",
       "<table border=\"1\" class=\"dataframe\">\n",
       "  <thead>\n",
       "    <tr style=\"text-align: right;\">\n",
       "      <th></th>\n",
       "      <th>Loan_ID</th>\n",
       "      <th>Gender</th>\n",
       "      <th>Married</th>\n",
       "      <th>Dependents</th>\n",
       "      <th>Education</th>\n",
       "      <th>Self_Employed</th>\n",
       "      <th>ApplicantIncome</th>\n",
       "      <th>CoapplicantIncome</th>\n",
       "      <th>LoanAmount</th>\n",
       "      <th>Loan_Amount_Term</th>\n",
       "      <th>Credit_History</th>\n",
       "      <th>Property_Area</th>\n",
       "      <th>Loan_Status</th>\n",
       "    </tr>\n",
       "  </thead>\n",
       "  <tbody>\n",
       "    <tr>\n",
       "      <th>0</th>\n",
       "      <td>LP001002</td>\n",
       "      <td>Male</td>\n",
       "      <td>No</td>\n",
       "      <td>0</td>\n",
       "      <td>Graduate</td>\n",
       "      <td>No</td>\n",
       "      <td>5849</td>\n",
       "      <td>0.0</td>\n",
       "      <td>NaN</td>\n",
       "      <td>360.0</td>\n",
       "      <td>1.0</td>\n",
       "      <td>Urban</td>\n",
       "      <td>Y</td>\n",
       "    </tr>\n",
       "    <tr>\n",
       "      <th>1</th>\n",
       "      <td>LP001003</td>\n",
       "      <td>Male</td>\n",
       "      <td>Yes</td>\n",
       "      <td>1</td>\n",
       "      <td>Graduate</td>\n",
       "      <td>No</td>\n",
       "      <td>4583</td>\n",
       "      <td>1508.0</td>\n",
       "      <td>128.0</td>\n",
       "      <td>360.0</td>\n",
       "      <td>1.0</td>\n",
       "      <td>Rural</td>\n",
       "      <td>N</td>\n",
       "    </tr>\n",
       "    <tr>\n",
       "      <th>2</th>\n",
       "      <td>LP001005</td>\n",
       "      <td>Male</td>\n",
       "      <td>Yes</td>\n",
       "      <td>0</td>\n",
       "      <td>Graduate</td>\n",
       "      <td>Yes</td>\n",
       "      <td>3000</td>\n",
       "      <td>0.0</td>\n",
       "      <td>66.0</td>\n",
       "      <td>360.0</td>\n",
       "      <td>1.0</td>\n",
       "      <td>Urban</td>\n",
       "      <td>Y</td>\n",
       "    </tr>\n",
       "    <tr>\n",
       "      <th>3</th>\n",
       "      <td>LP001006</td>\n",
       "      <td>Male</td>\n",
       "      <td>Yes</td>\n",
       "      <td>0</td>\n",
       "      <td>Not Graduate</td>\n",
       "      <td>No</td>\n",
       "      <td>2583</td>\n",
       "      <td>2358.0</td>\n",
       "      <td>120.0</td>\n",
       "      <td>360.0</td>\n",
       "      <td>1.0</td>\n",
       "      <td>Urban</td>\n",
       "      <td>Y</td>\n",
       "    </tr>\n",
       "    <tr>\n",
       "      <th>4</th>\n",
       "      <td>LP001008</td>\n",
       "      <td>Male</td>\n",
       "      <td>No</td>\n",
       "      <td>0</td>\n",
       "      <td>Graduate</td>\n",
       "      <td>No</td>\n",
       "      <td>6000</td>\n",
       "      <td>0.0</td>\n",
       "      <td>141.0</td>\n",
       "      <td>360.0</td>\n",
       "      <td>1.0</td>\n",
       "      <td>Urban</td>\n",
       "      <td>Y</td>\n",
       "    </tr>\n",
       "  </tbody>\n",
       "</table>\n",
       "</div>"
      ],
      "text/plain": [
       "    Loan_ID Gender Married Dependents     Education Self_Employed  \\\n",
       "0  LP001002   Male      No          0      Graduate            No   \n",
       "1  LP001003   Male     Yes          1      Graduate            No   \n",
       "2  LP001005   Male     Yes          0      Graduate           Yes   \n",
       "3  LP001006   Male     Yes          0  Not Graduate            No   \n",
       "4  LP001008   Male      No          0      Graduate            No   \n",
       "\n",
       "   ApplicantIncome  CoapplicantIncome  LoanAmount  Loan_Amount_Term  \\\n",
       "0             5849                0.0         NaN             360.0   \n",
       "1             4583             1508.0       128.0             360.0   \n",
       "2             3000                0.0        66.0             360.0   \n",
       "3             2583             2358.0       120.0             360.0   \n",
       "4             6000                0.0       141.0             360.0   \n",
       "\n",
       "   Credit_History Property_Area Loan_Status  \n",
       "0             1.0         Urban           Y  \n",
       "1             1.0         Rural           N  \n",
       "2             1.0         Urban           Y  \n",
       "3             1.0         Urban           Y  \n",
       "4             1.0         Urban           Y  "
      ]
     },
     "execution_count": 4,
     "metadata": {},
     "output_type": "execute_result"
    }
   ],
   "source": [
    "train.head()"
   ]
  },
  {
   "cell_type": "code",
   "execution_count": null,
   "id": "85f9ec13",
   "metadata": {},
   "outputs": [],
   "source": []
  },
  {
   "cell_type": "markdown",
   "id": "eb2684f5",
   "metadata": {},
   "source": [
    "# Data Validation\n",
    "since we have categorical features, we would encode that, but need to check if all categories present in testing set are present in training data as well, otherwise we need to handle that separately"
   ]
  },
  {
   "cell_type": "code",
   "execution_count": 5,
   "id": "a317084d",
   "metadata": {},
   "outputs": [
    {
     "name": "stdout",
     "output_type": "stream",
     "text": [
      "=>  Gender\n",
      "Train ->  ['Male' 'Female' nan]\n",
      "Test  ->  ['Male' 'Female' nan]\n",
      "*********************************\n",
      "=>  Married\n",
      "Train ->  ['No' 'Yes' nan]\n",
      "Test  ->  ['Yes' 'No']\n",
      "*********************************\n",
      "=>  Dependents\n",
      "Train ->  ['0' '1' '2' '3+' nan]\n",
      "Test  ->  ['0' '1' '2' '3+' nan]\n",
      "*********************************\n",
      "=>  Education\n",
      "Train ->  ['Graduate' 'Not Graduate']\n",
      "Test  ->  ['Graduate' 'Not Graduate']\n",
      "*********************************\n",
      "=>  Self_Employed\n",
      "Train ->  ['No' 'Yes' nan]\n",
      "Test  ->  ['No' 'Yes' nan]\n",
      "*********************************\n",
      "=>  Property_Area\n",
      "Train ->  ['Urban' 'Rural' 'Semiurban']\n",
      "Test  ->  ['Urban' 'Semiurban' 'Rural']\n",
      "*********************************\n"
     ]
    }
   ],
   "source": [
    "categorical_features = ['Gender', 'Married', 'Dependents', 'Education', 'Self_Employed', 'Property_Area']\n",
    "\n",
    "for col in categorical_features:\n",
    "    print('=> ',col)\n",
    "    print('Train -> ', train[col].unique())\n",
    "    print('Test  -> ', test[col].unique())\n",
    "    print('*'*33)"
   ]
  },
  {
   "cell_type": "markdown",
   "id": "8ef73078",
   "metadata": {},
   "source": [
    "> There are no unique categories present in Test set, which are not in Trianing data => Validiated"
   ]
  },
  {
   "cell_type": "markdown",
   "id": "ab84f23c",
   "metadata": {},
   "source": [
    "#### EDA has not been performed yet. Covered in another notebook"
   ]
  },
  {
   "cell_type": "markdown",
   "id": "6a486f1a",
   "metadata": {},
   "source": [
    "## Outliers Detection"
   ]
  },
  {
   "cell_type": "markdown",
   "id": "f8fccea9",
   "metadata": {},
   "source": [
    "### IQR"
   ]
  },
  {
   "cell_type": "code",
   "execution_count": 6,
   "id": "ecd61afe",
   "metadata": {},
   "outputs": [],
   "source": [
    "def IQR(df, col):\n",
    "    \n",
    "    # calculate quantiles\n",
    "    q25, q75 = np.quantile(df[col], 0.25), np.quantile(df[col], 0.75)\n",
    "    \n",
    "    # calculate IQR\n",
    "    iqr = q75 - q25\n",
    "    \n",
    "    # defining boundaries\n",
    "    lower, upper = q25 - (1.5 * iqr), q75 + (1.5 * iqr)\n",
    "    \n",
    "    print('IQR is ',iqr)\n",
    "    print('lower bound is ', lower)\n",
    "    print('upper bound is ', upper)\n",
    "    \n",
    "    # calculate records count beyond range\n",
    "    df_upper = df[df[col] > upper]\n",
    "    df_lower = df[df[col] < lower]\n",
    "    \n",
    "    print('Total number of outliers are', df_upper.shape[0] + df_lower.shape[0])\n",
    "    \n",
    "    # Visualising\n",
    "    plt.figure(figsize = (10,6))\n",
    "    sns.distplot(df[col], kde=False)\n",
    "    plt.axvspan(xmin = lower,xmax= df[col].min(),alpha=0.2, color='red')\n",
    "    plt.axvspan(xmin = upper,xmax= df[col].max(),alpha=0.2, color='red')"
   ]
  },
  {
   "cell_type": "code",
   "execution_count": 7,
   "id": "c2342673",
   "metadata": {},
   "outputs": [],
   "source": [
    "numerical_features = [ 'ApplicantIncome', 'CoapplicantIncome', 'LoanAmount', 'Loan_Amount_Term', 'Credit_History' ]"
   ]
  },
  {
   "cell_type": "code",
   "execution_count": 8,
   "id": "3ee47ed1",
   "metadata": {},
   "outputs": [
    {
     "name": "stdout",
     "output_type": "stream",
     "text": [
      "=>  ApplicantIncome\n",
      "IQR is  2917.5\n",
      "lower bound is  -1498.75\n",
      "upper bound is  10171.25\n",
      "Total number of outliers are 50\n",
      "*********************************\n",
      "=>  CoapplicantIncome\n",
      "IQR is  2297.25\n",
      "lower bound is  -3445.875\n",
      "upper bound is  5743.125\n",
      "Total number of outliers are 18\n",
      "*********************************\n",
      "=>  LoanAmount\n",
      "IQR is  nan\n",
      "lower bound is  nan\n",
      "upper bound is  nan\n",
      "Total number of outliers are 0\n",
      "*********************************\n",
      "=>  Loan_Amount_Term\n",
      "IQR is  nan\n",
      "lower bound is  nan\n",
      "upper bound is  nan\n",
      "Total number of outliers are 0\n",
      "*********************************\n",
      "=>  Credit_History\n",
      "IQR is  nan\n",
      "lower bound is  nan\n",
      "upper bound is  nan\n",
      "Total number of outliers are 0\n",
      "*********************************\n"
     ]
    },
    {
     "data": {
      "image/png": "[encoded data removed]",
      "text/plain": [
       "<Figure size 720x432 with 1 Axes>"
      ]
     },
     "metadata": {
      "needs_background": "light"
     },
     "output_type": "display_data"
    },
    {
     "data": {
      "image/png": "[encoded data removed]",
      "text/plain": [
       "<Figure size 720x432 with 1 Axes>"
      ]
     },
     "metadata": {
      "needs_background": "light"
     },
     "output_type": "display_data"
    },
    {
     "data": {
      "image/png": "[encoded data removed]",
      "text/plain": [
       "<Figure size 720x432 with 1 Axes>"
      ]
     },
     "metadata": {
      "needs_background": "light"
     },
     "output_type": "display_data"
    },
    {
     "data": {
      "image/png": "[encoded data removed]",
      "text/plain": [
       "<Figure size 720x432 with 1 Axes>"
      ]
     },
     "metadata": {
      "needs_background": "light"
     },
     "output_type": "display_data"
    },
    {
     "data": {
      "image/png": "[encoded data removed]",
      "text/plain": [
       "<Figure size 720x432 with 1 Axes>"
      ]
     },
     "metadata": {
      "needs_background": "light"
     },
     "output_type": "display_data"
    }
   ],
   "source": [
    "for col in numerical_features:\n",
    "    print('=> ', col)\n",
    "    IQR(train, col)\n",
    "    print('*'*33)"
   ]
  },
  {
   "cell_type": "markdown",
   "id": "64981697",
   "metadata": {},
   "source": [
    "### Z Score"
   ]
  },
  {
   "cell_type": "code",
   "execution_count": 9,
   "id": "92455bd9",
   "metadata": {},
   "outputs": [],
   "source": [
    "def zscore(col):\n",
    "    \n",
    "    outliers = []\n",
    "    z_scores = []\n",
    "    threshold = 3\n",
    "    \n",
    "    # calculate the mean and standard deviation of the data frame\n",
    "    data_mean, data_std = col.mean(), col.std()\n",
    "    \n",
    "    for i in col:\n",
    "        z_score = (i - data_mean)/ data_std\n",
    "        z_scores.append(z_score)\n",
    "        \n",
    "        if np.abs(z_score) > threshold:\n",
    "            outliers.append(i)\n",
    "            \n",
    "    print('Total Outliers are ', len(outliers))\n",
    "    \n",
    "    # Visualising\n",
    "    plt.figure(figsize = (10,6))\n",
    "    sns.distplot(z_scores)\n",
    "    plt.axvspan(xmin = 3 ,xmax= max(z_scores),alpha=0.2, color='red')"
   ]
  },
  {
   "cell_type": "code",
   "execution_count": 10,
   "id": "9ebfecc5",
   "metadata": {},
   "outputs": [
    {
     "name": "stdout",
     "output_type": "stream",
     "text": [
      "=>  ApplicantIncome\n",
      "Total Outliers are  8\n",
      "*********************************\n",
      "=>  CoapplicantIncome\n",
      "Total Outliers are  6\n",
      "*********************************\n",
      "=>  LoanAmount\n",
      "Total Outliers are  14\n",
      "*********************************\n",
      "=>  Loan_Amount_Term\n",
      "Total Outliers are  12\n",
      "*********************************\n",
      "=>  Credit_History\n",
      "Total Outliers are  0\n",
      "*********************************\n"
     ]
    },
    {
     "data": {
      "image/png": "[encoded data removed]",
      "text/plain": [
       "<Figure size 720x432 with 1 Axes>"
      ]
     },
     "metadata": {
      "needs_background": "light"
     },
     "output_type": "display_data"
    },
    {
     "data": {
      "image/png": "[encoded data removed]",
      "text/plain": [
       "<Figure size 720x432 with 1 Axes>"
      ]
     },
     "metadata": {
      "needs_background": "light"
     },
     "output_type": "display_data"
    },
    {
     "data": {
      "image/png": "[encoded data removed]",
      "text/plain": [
       "<Figure size 720x432 with 1 Axes>"
      ]
     },
     "metadata": {
      "needs_background": "light"
     },
     "output_type": "display_data"
    },
    {
     "data": {
      "image/png": "[encoded data removed]",
      "text/plain": [
       "<Figure size 720x432 with 1 Axes>"
      ]
     },
     "metadata": {
      "needs_background": "light"
     },
     "output_type": "display_data"
    },
    {
     "data": {
      "image/png": "[encoded data removed]",
      "text/plain": [
       "<Figure size 720x432 with 1 Axes>"
      ]
     },
     "metadata": {
      "needs_background": "light"
     },
     "output_type": "display_data"
    }
   ],
   "source": [
    "for col in numerical_features:\n",
    "    print('=> ', col)\n",
    "    zscore(train[col])\n",
    "    print('*'*33)"
   ]
  },
  {
   "cell_type": "markdown",
   "id": "cd12057e",
   "metadata": {},
   "source": [
    "### Standard Deviation"
   ]
  },
  {
   "cell_type": "code",
   "execution_count": 11,
   "id": "cb244bcc",
   "metadata": {},
   "outputs": [],
   "source": [
    "def std(df, col):\n",
    "    \n",
    "    # calculate the mean and standard deviation of the data frame\n",
    "    data_mean, data_std = df[col].mean(), df[col].std()\n",
    "    \n",
    "    # initialise the cutoff value\n",
    "    cut_off = data_std * 3\n",
    "    \n",
    "    # calculate the lower and upper bound value\n",
    "    lower, upper = data_mean - cut_off, data_mean + cut_off\n",
    "    \n",
    "    print('The lower bound value is', lower)\n",
    "    print('The upper bound value is', upper)\n",
    "\n",
    "    # calculate records count beyond range    \n",
    "    df_upper = df[df[col] > upper]\n",
    "    df_lower = df[df[col] < lower]\n",
    "    \n",
    "    print('Total number of outliers are', df_upper.shape[0] + df_lower.shape[0])\n",
    "    \n",
    "    # Visualising\n",
    "    plt.figure(figsize = (10,6))\n",
    "    sns.distplot(df[col], kde=False)\n",
    "    plt.axvspan(xmin = lower,xmax= df[col].min(),alpha=0.2, color='red')\n",
    "\n",
    "  \n",
    "     "
   ]
  },
  {
   "cell_type": "code",
   "execution_count": 12,
   "id": "091bf8d6",
   "metadata": {
    "scrolled": true
   },
   "outputs": [
    {
     "name": "stdout",
     "output_type": "stream",
     "text": [
      "=>  ApplicantIncome\n",
      "The lower bound value is -12923.665736773899\n",
      "The upper bound value is 23730.584303549145\n",
      "Total number of outliers are 8\n",
      "*********************************\n",
      "=>  CoapplicantIncome\n",
      "The lower bound value is -7157.499309645475\n",
      "The upper bound value is 10399.990905699677\n",
      "Total number of outliers are 6\n",
      "*********************************\n",
      "=>  LoanAmount\n",
      "The lower bound value is -110.34981354495417\n",
      "The upper bound value is 403.1741378692785\n",
      "Total number of outliers are 14\n",
      "*********************************\n",
      "=>  Loan_Amount_Term\n",
      "The lower bound value is 146.6387704361623\n",
      "The upper bound value is 537.3612295638377\n",
      "Total number of outliers are 12\n",
      "*********************************\n",
      "=>  Credit_History\n",
      "The lower bound value is -0.252436376148931\n",
      "The upper bound value is 1.9368335392694984\n",
      "Total number of outliers are 0\n",
      "*********************************\n"
     ]
    },
    {
     "data": {
      "image/png": "[encoded data removed]",
      "text/plain": [
       "<Figure size 720x432 with 1 Axes>"
      ]
     },
     "metadata": {
      "needs_background": "light"
     },
     "output_type": "display_data"
    },
    {
     "data": {
      "image/png": "[encoded data removed]",
      "text/plain": [
       "<Figure size 720x432 with 1 Axes>"
      ]
     },
     "metadata": {
      "needs_background": "light"
     },
     "output_type": "display_data"
    },
    {
     "data": {
      "image/png": "[encoded data removed]",
      "text/plain": [
       "<Figure size 720x432 with 1 Axes>"
      ]
     },
     "metadata": {
      "needs_background": "light"
     },
     "output_type": "display_data"
    },
    {
     "data": {
      "image/png": "[encoded data removed]",
      "text/plain": [
       "<Figure size 720x432 with 1 Axes>"
      ]
     },
     "metadata": {
      "needs_background": "light"
     },
     "output_type": "display_data"
    },
    {
     "data": {
      "image/png": "[encoded data removed]",
      "text/plain": [
       "<Figure size 720x432 with 1 Axes>"
      ]
     },
     "metadata": {
      "needs_background": "light"
     },
     "output_type": "display_data"
    }
   ],
   "source": [
    "for col in numerical_features:\n",
    "    print('=> ', col)\n",
    "    std(train, col)\n",
    "    print('*'*33)"
   ]
  },
  {
   "cell_type": "code",
   "execution_count": 13,
   "id": "43b5ce0c",
   "metadata": {},
   "outputs": [
    {
     "data": {
      "text/plain": [
       "Loan_ID               object\n",
       "Gender                object\n",
       "Married               object\n",
       "Dependents            object\n",
       "Education             object\n",
       "Self_Employed         object\n",
       "ApplicantIncome        int64\n",
       "CoapplicantIncome    float64\n",
       "LoanAmount           float64\n",
       "Loan_Amount_Term     float64\n",
       "Credit_History       float64\n",
       "Property_Area         object\n",
       "Loan_Status           object\n",
       "dtype: object"
      ]
     },
     "execution_count": 13,
     "metadata": {},
     "output_type": "execute_result"
    }
   ],
   "source": [
    "train.dtypes"
   ]
  },
  {
   "cell_type": "code",
   "execution_count": 14,
   "id": "bc87bdf7",
   "metadata": {},
   "outputs": [],
   "source": [
    "# Removing outliers from ApplicantIncome considering Standard Deviation\n",
    "train = train[(train['ApplicantIncome'] < 23730) & (train['ApplicantIncome'] > -12923) ]"
   ]
  },
  {
   "cell_type": "code",
   "execution_count": 15,
   "id": "a44e4978",
   "metadata": {},
   "outputs": [],
   "source": [
    "# Removing outliers from CoApplicantIncome considering Standard Deviation\n",
    "train = train[(train['CoapplicantIncome'] < 10399) & (train['CoapplicantIncome'] > -7157) ]"
   ]
  },
  {
   "cell_type": "code",
   "execution_count": 16,
   "id": "231315d0",
   "metadata": {},
   "outputs": [
    {
     "data": {
      "text/plain": [
       "(600, 13)"
      ]
     },
     "execution_count": 16,
     "metadata": {},
     "output_type": "execute_result"
    }
   ],
   "source": [
    "train.shape"
   ]
  },
  {
   "cell_type": "code",
   "execution_count": 17,
   "id": "cab9b04d",
   "metadata": {},
   "outputs": [
    {
     "data": {
      "text/plain": [
       "<AxesSubplot: xlabel='LoanAmount', ylabel='Count'>"
      ]
     },
     "execution_count": 17,
     "metadata": {},
     "output_type": "execute_result"
    },
    {
     "data": {
      "image/png": "[encoded data removed]",
      "text/plain": [
       "<Figure size 432x288 with 1 Axes>"
      ]
     },
     "metadata": {
      "needs_background": "light"
     },
     "output_type": "display_data"
    }
   ],
   "source": [
    "sns.histplot(data= train['LoanAmount'], kde= True)"
   ]
  },
  {
   "cell_type": "code",
   "execution_count": 18,
   "id": "3294dcac",
   "metadata": {},
   "outputs": [
    {
     "name": "stdout",
     "output_type": "stream",
     "text": [
      "<class 'pandas.core.frame.DataFrame'>\n",
      "Int64Index: 600 entries, 0 to 613\n",
      "Data columns (total 13 columns):\n",
      " #   Column             Non-Null Count  Dtype  \n",
      "---  ------             --------------  -----  \n",
      " 0   Loan_ID            600 non-null    object \n",
      " 1   Gender             589 non-null    object \n",
      " 2   Married            597 non-null    object \n",
      " 3   Dependents         585 non-null    object \n",
      " 4   Education          600 non-null    object \n",
      " 5   Self_Employed      570 non-null    object \n",
      " 6   ApplicantIncome    600 non-null    int64  \n",
      " 7   CoapplicantIncome  600 non-null    float64\n",
      " 8   LoanAmount         578 non-null    float64\n",
      " 9   Loan_Amount_Term   586 non-null    float64\n",
      " 10  Credit_History     551 non-null    float64\n",
      " 11  Property_Area      600 non-null    object \n",
      " 12  Loan_Status        600 non-null    object \n",
      "dtypes: float64(4), int64(1), object(8)\n",
      "memory usage: 65.6+ KB\n"
     ]
    }
   ],
   "source": [
    "train.info()"
   ]
  },
  {
   "cell_type": "code",
   "execution_count": 19,
   "id": "c8e92418",
   "metadata": {},
   "outputs": [
    {
     "name": "stdout",
     "output_type": "stream",
     "text": [
      "<class 'pandas.core.frame.DataFrame'>\n",
      "RangeIndex: 367 entries, 0 to 366\n",
      "Data columns (total 12 columns):\n",
      " #   Column             Non-Null Count  Dtype  \n",
      "---  ------             --------------  -----  \n",
      " 0   Loan_ID            367 non-null    object \n",
      " 1   Gender             356 non-null    object \n",
      " 2   Married            367 non-null    object \n",
      " 3   Dependents         357 non-null    object \n",
      " 4   Education          367 non-null    object \n",
      " 5   Self_Employed      344 non-null    object \n",
      " 6   ApplicantIncome    367 non-null    int64  \n",
      " 7   CoapplicantIncome  367 non-null    int64  \n",
      " 8   LoanAmount         362 non-null    float64\n",
      " 9   Loan_Amount_Term   361 non-null    float64\n",
      " 10  Credit_History     338 non-null    float64\n",
      " 11  Property_Area      367 non-null    object \n",
      "dtypes: float64(3), int64(2), object(7)\n",
      "memory usage: 34.5+ KB\n"
     ]
    }
   ],
   "source": [
    "test.info()"
   ]
  },
  {
   "cell_type": "code",
   "execution_count": 20,
   "id": "1d1cf0c9",
   "metadata": {},
   "outputs": [
    {
     "data": {
      "text/plain": [
       "(0, 13)"
      ]
     },
     "execution_count": 20,
     "metadata": {},
     "output_type": "execute_result"
    }
   ],
   "source": [
    "train[train.duplicated(keep= 'first')].shape"
   ]
  },
  {
   "cell_type": "code",
   "execution_count": 21,
   "id": "630bffc6",
   "metadata": {},
   "outputs": [
    {
     "data": {
      "text/plain": [
       "Loan_ID               0\n",
       "Gender               11\n",
       "Married               3\n",
       "Dependents           15\n",
       "Education             0\n",
       "Self_Employed        30\n",
       "ApplicantIncome       0\n",
       "CoapplicantIncome     0\n",
       "LoanAmount           22\n",
       "Loan_Amount_Term     14\n",
       "Credit_History       49\n",
       "Property_Area         0\n",
       "Loan_Status           0\n",
       "dtype: int64"
      ]
     },
     "execution_count": 21,
     "metadata": {},
     "output_type": "execute_result"
    }
   ],
   "source": [
    "train.isnull().sum()"
   ]
  },
  {
   "cell_type": "code",
   "execution_count": 22,
   "id": "e9e7be42",
   "metadata": {},
   "outputs": [
    {
     "data": {
      "text/plain": [
       "Loan_ID               0\n",
       "Gender               11\n",
       "Married               0\n",
       "Dependents           10\n",
       "Education             0\n",
       "Self_Employed        23\n",
       "ApplicantIncome       0\n",
       "CoapplicantIncome     0\n",
       "LoanAmount            5\n",
       "Loan_Amount_Term      6\n",
       "Credit_History       29\n",
       "Property_Area         0\n",
       "dtype: int64"
      ]
     },
     "execution_count": 22,
     "metadata": {},
     "output_type": "execute_result"
    }
   ],
   "source": [
    "test.isnull().sum()"
   ]
  },
  {
   "cell_type": "markdown",
   "id": "61edf907",
   "metadata": {},
   "source": [
    "# Splitting Train data into Train & Val"
   ]
  },
  {
   "cell_type": "code",
   "execution_count": 23,
   "id": "cf6596a4",
   "metadata": {},
   "outputs": [
    {
     "data": {
      "text/plain": [
       "((480, 12), (120, 12), (480,), (120,))"
      ]
     },
     "execution_count": 23,
     "metadata": {},
     "output_type": "execute_result"
    }
   ],
   "source": [
    "from sklearn.model_selection import train_test_split\n",
    "\n",
    "X = train.drop(['Loan_Status'], axis= 1)\n",
    "y = train['Loan_Status']\n",
    "\n",
    "X_train, X_val, y_train, y_val = train_test_split(X, y, test_size=0.2, random_state=9, stratify= y)\n",
    "\n",
    "X_train.shape, X_val.shape, y_train.shape, y_val.shape"
   ]
  },
  {
   "cell_type": "code",
   "execution_count": 24,
   "id": "61c73320",
   "metadata": {},
   "outputs": [
    {
     "data": {
      "text/plain": [
       "Male      0.817021\n",
       "Female    0.182979\n",
       "Name: Gender, dtype: float64"
      ]
     },
     "execution_count": 24,
     "metadata": {},
     "output_type": "execute_result"
    }
   ],
   "source": [
    "X_train['Gender'].value_counts(normalize= True)"
   ]
  },
  {
   "cell_type": "markdown",
   "id": "eef3f66e",
   "metadata": {},
   "source": [
    "### Why this is important : Suppse `if one of the values were dominant (covering > 80% suppose), then we could have used that value to impute in these missing values`\n",
    "\n",
    "#### if suppose both were too close, and if we assign there missing values to a particular class (using MODE) , then the `distribution will significantly change`, in that case we need to think other way around\n"
   ]
  },
  {
   "cell_type": "markdown",
   "id": "a9ddb780",
   "metadata": {},
   "source": [
    "# check column transformer to do all tasks together"
   ]
  },
  {
   "cell_type": "code",
   "execution_count": 25,
   "id": "b0f6c149",
   "metadata": {},
   "outputs": [],
   "source": [
    "from sklearn.impute import SimpleImputer\n",
    "from sklearn.preprocessing import OneHotEncoder\n",
    "from sklearn.compose import ColumnTransformer\n",
    "from sklearn.preprocessing import OrdinalEncoder"
   ]
  },
  {
   "cell_type": "code",
   "execution_count": 26,
   "id": "64ebe815",
   "metadata": {},
   "outputs": [],
   "source": [
    "Imputer = ColumnTransformer(transformers = [\n",
    "    ('mode', SimpleImputer(strategy= 'most_frequent'), ['Gender', 'Married', 'Dependents', 'Self_Employed', 'Loan_Amount_Term', 'Credit_History']),\n",
    "    ('mean', SimpleImputer(strategy= 'mean'), ['LoanAmount'])\n",
    "], remainder= 'drop')"
   ]
  },
  {
   "cell_type": "code",
   "execution_count": 27,
   "id": "6df9ac11",
   "metadata": {},
   "outputs": [
    {
     "data": {
      "text/plain": [
       "array([['Male', 'Yes', '2', ..., 360.0, 1.0, 155.0],\n",
       "       ['Male', 'No', '0', ..., 360.0, 1.0, 311.0],\n",
       "       ['Male', 'Yes', '0', ..., 180.0, 0.0, 90.0],\n",
       "       ...,\n",
       "       ['Male', 'No', '0', ..., 360.0, 1.0, 144.1459694989107],\n",
       "       ['Female', 'No', '1', ..., 360.0, 1.0, 144.1459694989107],\n",
       "       ['Male', 'Yes', '0', ..., 360.0, 1.0, 144.1459694989107]],\n",
       "      dtype=object)"
      ]
     },
     "execution_count": 27,
     "metadata": {},
     "output_type": "execute_result"
    }
   ],
   "source": [
    "Imputed_data_train = Imputer.fit_transform(X_train)\n",
    "Imputed_data_train"
   ]
  },
  {
   "cell_type": "code",
   "execution_count": 28,
   "id": "cc4d1091",
   "metadata": {},
   "outputs": [
    {
     "data": {
      "text/plain": [
       "array(['Gender', 'Married', 'Dependents', 'Self_Employed',\n",
       "       'Loan_Amount_Term', 'Credit_History'], dtype=object)"
      ]
     },
     "execution_count": 28,
     "metadata": {},
     "output_type": "execute_result"
    }
   ],
   "source": [
    "Imputer.named_transformers_['mode'].get_feature_names_out()"
   ]
  },
  {
   "cell_type": "code",
   "execution_count": 29,
   "id": "19fee4a9",
   "metadata": {},
   "outputs": [
    {
     "data": {
      "text/plain": [
       "array(['LoanAmount'], dtype=object)"
      ]
     },
     "execution_count": 29,
     "metadata": {},
     "output_type": "execute_result"
    }
   ],
   "source": [
    "Imputer.named_transformers_['mean'].get_feature_names_out()"
   ]
  },
  {
   "cell_type": "code",
   "execution_count": 30,
   "id": "df0be564",
   "metadata": {},
   "outputs": [
    {
     "data": {
      "text/plain": [
       "array(['mode__Gender', 'mode__Married', 'mode__Dependents',\n",
       "       'mode__Self_Employed', 'mode__Loan_Amount_Term',\n",
       "       'mode__Credit_History', 'mean__LoanAmount'], dtype=object)"
      ]
     },
     "execution_count": 30,
     "metadata": {},
     "output_type": "execute_result"
    }
   ],
   "source": [
    "new_cols = Imputer.get_feature_names_out()\n",
    "new_cols"
   ]
  },
  {
   "cell_type": "code",
   "execution_count": 31,
   "id": "5be0b700",
   "metadata": {},
   "outputs": [
    {
     "data": {
      "text/html": [
       "<div>\n",
       "<style scoped>\n",
       "    .dataframe tbody tr th:only-of-type {\n",
       "        vertical-align: middle;\n",
       "    }\n",
       "\n",
       "    .dataframe tbody tr th {\n",
       "        vertical-align: top;\n",
       "    }\n",
       "\n",
       "    .dataframe thead th {\n",
       "        text-align: right;\n",
       "    }\n",
       "</style>\n",
       "<table border=\"1\" class=\"dataframe\">\n",
       "  <thead>\n",
       "    <tr style=\"text-align: right;\">\n",
       "      <th></th>\n",
       "      <th>mode__Gender</th>\n",
       "      <th>mode__Married</th>\n",
       "      <th>mode__Dependents</th>\n",
       "      <th>mode__Self_Employed</th>\n",
       "      <th>mode__Loan_Amount_Term</th>\n",
       "      <th>mode__Credit_History</th>\n",
       "      <th>mean__LoanAmount</th>\n",
       "    </tr>\n",
       "  </thead>\n",
       "  <tbody>\n",
       "    <tr>\n",
       "      <th>475</th>\n",
       "      <td>Male</td>\n",
       "      <td>Yes</td>\n",
       "      <td>0</td>\n",
       "      <td>No</td>\n",
       "      <td>360.0</td>\n",
       "      <td>1.0</td>\n",
       "      <td>129.0</td>\n",
       "    </tr>\n",
       "    <tr>\n",
       "      <th>476</th>\n",
       "      <td>Male</td>\n",
       "      <td>Yes</td>\n",
       "      <td>2</td>\n",
       "      <td>No</td>\n",
       "      <td>360.0</td>\n",
       "      <td>0.0</td>\n",
       "      <td>258.0</td>\n",
       "    </tr>\n",
       "    <tr>\n",
       "      <th>477</th>\n",
       "      <td>Male</td>\n",
       "      <td>No</td>\n",
       "      <td>0</td>\n",
       "      <td>No</td>\n",
       "      <td>360.0</td>\n",
       "      <td>1.0</td>\n",
       "      <td>144.145969</td>\n",
       "    </tr>\n",
       "    <tr>\n",
       "      <th>478</th>\n",
       "      <td>Female</td>\n",
       "      <td>No</td>\n",
       "      <td>1</td>\n",
       "      <td>Yes</td>\n",
       "      <td>360.0</td>\n",
       "      <td>1.0</td>\n",
       "      <td>144.145969</td>\n",
       "    </tr>\n",
       "    <tr>\n",
       "      <th>479</th>\n",
       "      <td>Male</td>\n",
       "      <td>Yes</td>\n",
       "      <td>0</td>\n",
       "      <td>No</td>\n",
       "      <td>360.0</td>\n",
       "      <td>1.0</td>\n",
       "      <td>144.145969</td>\n",
       "    </tr>\n",
       "  </tbody>\n",
       "</table>\n",
       "</div>"
      ],
      "text/plain": [
       "    mode__Gender mode__Married mode__Dependents mode__Self_Employed  \\\n",
       "475         Male           Yes                0                  No   \n",
       "476         Male           Yes                2                  No   \n",
       "477         Male            No                0                  No   \n",
       "478       Female            No                1                 Yes   \n",
       "479         Male           Yes                0                  No   \n",
       "\n",
       "    mode__Loan_Amount_Term mode__Credit_History mean__LoanAmount  \n",
       "475                  360.0                  1.0            129.0  \n",
       "476                  360.0                  0.0            258.0  \n",
       "477                  360.0                  1.0       144.145969  \n",
       "478                  360.0                  1.0       144.145969  \n",
       "479                  360.0                  1.0       144.145969  "
      ]
     },
     "execution_count": 31,
     "metadata": {},
     "output_type": "execute_result"
    }
   ],
   "source": [
    "Imputed_df_train = pd.DataFrame(Imputed_data_train, columns=new_cols)\n",
    "Imputed_df_train.tail()"
   ]
  },
  {
   "cell_type": "code",
   "execution_count": 32,
   "id": "0f11bcd4",
   "metadata": {},
   "outputs": [
    {
     "data": {
      "text/plain": [
       "mode__Gender              0\n",
       "mode__Married             0\n",
       "mode__Dependents          0\n",
       "mode__Self_Employed       0\n",
       "mode__Loan_Amount_Term    0\n",
       "mode__Credit_History      0\n",
       "mean__LoanAmount          0\n",
       "dtype: int64"
      ]
     },
     "execution_count": 32,
     "metadata": {},
     "output_type": "execute_result"
    }
   ],
   "source": [
    "Imputed_df_train.isnull().sum()"
   ]
  },
  {
   "cell_type": "code",
   "execution_count": 33,
   "id": "57ff96c0",
   "metadata": {},
   "outputs": [
    {
     "data": {
      "text/plain": [
       "(480, 7)"
      ]
     },
     "execution_count": 33,
     "metadata": {},
     "output_type": "execute_result"
    }
   ],
   "source": [
    "Imputed_df_train.shape"
   ]
  },
  {
   "cell_type": "code",
   "execution_count": 34,
   "id": "52ac580f",
   "metadata": {},
   "outputs": [
    {
     "data": {
      "text/html": [
       "<div>\n",
       "<style scoped>\n",
       "    .dataframe tbody tr th:only-of-type {\n",
       "        vertical-align: middle;\n",
       "    }\n",
       "\n",
       "    .dataframe tbody tr th {\n",
       "        vertical-align: top;\n",
       "    }\n",
       "\n",
       "    .dataframe thead th {\n",
       "        text-align: right;\n",
       "    }\n",
       "</style>\n",
       "<table border=\"1\" class=\"dataframe\">\n",
       "  <thead>\n",
       "    <tr style=\"text-align: right;\">\n",
       "      <th></th>\n",
       "      <th>Loan_ID</th>\n",
       "      <th>Gender</th>\n",
       "      <th>Married</th>\n",
       "      <th>Dependents</th>\n",
       "      <th>Education</th>\n",
       "      <th>Self_Employed</th>\n",
       "      <th>ApplicantIncome</th>\n",
       "      <th>CoapplicantIncome</th>\n",
       "      <th>LoanAmount</th>\n",
       "      <th>Loan_Amount_Term</th>\n",
       "      <th>Credit_History</th>\n",
       "      <th>Property_Area</th>\n",
       "      <th>mode__Gender</th>\n",
       "      <th>mode__Married</th>\n",
       "      <th>mode__Dependents</th>\n",
       "      <th>mode__Self_Employed</th>\n",
       "      <th>mode__Loan_Amount_Term</th>\n",
       "      <th>mode__Credit_History</th>\n",
       "      <th>mean__LoanAmount</th>\n",
       "    </tr>\n",
       "  </thead>\n",
       "  <tbody>\n",
       "    <tr>\n",
       "      <th>475</th>\n",
       "      <td>LP001578</td>\n",
       "      <td>Male</td>\n",
       "      <td>Yes</td>\n",
       "      <td>0</td>\n",
       "      <td>Graduate</td>\n",
       "      <td>No</td>\n",
       "      <td>2439</td>\n",
       "      <td>3333.0</td>\n",
       "      <td>129.0</td>\n",
       "      <td>360.0</td>\n",
       "      <td>1.0</td>\n",
       "      <td>Rural</td>\n",
       "      <td>Male</td>\n",
       "      <td>Yes</td>\n",
       "      <td>0</td>\n",
       "      <td>No</td>\n",
       "      <td>360.0</td>\n",
       "      <td>1.0</td>\n",
       "      <td>129.0</td>\n",
       "    </tr>\n",
       "    <tr>\n",
       "      <th>476</th>\n",
       "      <td>LP002832</td>\n",
       "      <td>Male</td>\n",
       "      <td>Yes</td>\n",
       "      <td>2</td>\n",
       "      <td>Graduate</td>\n",
       "      <td>No</td>\n",
       "      <td>8799</td>\n",
       "      <td>0.0</td>\n",
       "      <td>258.0</td>\n",
       "      <td>360.0</td>\n",
       "      <td>0.0</td>\n",
       "      <td>Urban</td>\n",
       "      <td>Male</td>\n",
       "      <td>Yes</td>\n",
       "      <td>2</td>\n",
       "      <td>No</td>\n",
       "      <td>360.0</td>\n",
       "      <td>0.0</td>\n",
       "      <td>258.0</td>\n",
       "    </tr>\n",
       "    <tr>\n",
       "      <th>477</th>\n",
       "      <td>LP002697</td>\n",
       "      <td>Male</td>\n",
       "      <td>No</td>\n",
       "      <td>0</td>\n",
       "      <td>Graduate</td>\n",
       "      <td>No</td>\n",
       "      <td>4680</td>\n",
       "      <td>2087.0</td>\n",
       "      <td>NaN</td>\n",
       "      <td>360.0</td>\n",
       "      <td>1.0</td>\n",
       "      <td>Semiurban</td>\n",
       "      <td>Male</td>\n",
       "      <td>No</td>\n",
       "      <td>0</td>\n",
       "      <td>No</td>\n",
       "      <td>360.0</td>\n",
       "      <td>1.0</td>\n",
       "      <td>144.145969</td>\n",
       "    </tr>\n",
       "    <tr>\n",
       "      <th>478</th>\n",
       "      <td>LP001392</td>\n",
       "      <td>Female</td>\n",
       "      <td>No</td>\n",
       "      <td>1</td>\n",
       "      <td>Graduate</td>\n",
       "      <td>Yes</td>\n",
       "      <td>7451</td>\n",
       "      <td>0.0</td>\n",
       "      <td>NaN</td>\n",
       "      <td>360.0</td>\n",
       "      <td>1.0</td>\n",
       "      <td>Semiurban</td>\n",
       "      <td>Female</td>\n",
       "      <td>No</td>\n",
       "      <td>1</td>\n",
       "      <td>Yes</td>\n",
       "      <td>360.0</td>\n",
       "      <td>1.0</td>\n",
       "      <td>144.145969</td>\n",
       "    </tr>\n",
       "    <tr>\n",
       "      <th>479</th>\n",
       "      <td>LP001356</td>\n",
       "      <td>Male</td>\n",
       "      <td>Yes</td>\n",
       "      <td>0</td>\n",
       "      <td>Graduate</td>\n",
       "      <td>No</td>\n",
       "      <td>4652</td>\n",
       "      <td>3583.0</td>\n",
       "      <td>NaN</td>\n",
       "      <td>360.0</td>\n",
       "      <td>1.0</td>\n",
       "      <td>Semiurban</td>\n",
       "      <td>Male</td>\n",
       "      <td>Yes</td>\n",
       "      <td>0</td>\n",
       "      <td>No</td>\n",
       "      <td>360.0</td>\n",
       "      <td>1.0</td>\n",
       "      <td>144.145969</td>\n",
       "    </tr>\n",
       "  </tbody>\n",
       "</table>\n",
       "</div>"
      ],
      "text/plain": [
       "      Loan_ID  Gender Married Dependents Education Self_Employed  \\\n",
       "475  LP001578    Male     Yes          0  Graduate            No   \n",
       "476  LP002832    Male     Yes          2  Graduate            No   \n",
       "477  LP002697    Male      No          0  Graduate            No   \n",
       "478  LP001392  Female      No          1  Graduate           Yes   \n",
       "479  LP001356    Male     Yes          0  Graduate            No   \n",
       "\n",
       "     ApplicantIncome  CoapplicantIncome  LoanAmount  Loan_Amount_Term  \\\n",
       "475             2439             3333.0       129.0             360.0   \n",
       "476             8799                0.0       258.0             360.0   \n",
       "477             4680             2087.0         NaN             360.0   \n",
       "478             7451                0.0         NaN             360.0   \n",
       "479             4652             3583.0         NaN             360.0   \n",
       "\n",
       "     Credit_History Property_Area mode__Gender mode__Married mode__Dependents  \\\n",
       "475             1.0         Rural         Male           Yes                0   \n",
       "476             0.0         Urban         Male           Yes                2   \n",
       "477             1.0     Semiurban         Male            No                0   \n",
       "478             1.0     Semiurban       Female            No                1   \n",
       "479             1.0     Semiurban         Male           Yes                0   \n",
       "\n",
       "    mode__Self_Employed mode__Loan_Amount_Term mode__Credit_History  \\\n",
       "475                  No                  360.0                  1.0   \n",
       "476                  No                  360.0                  0.0   \n",
       "477                  No                  360.0                  1.0   \n",
       "478                 Yes                  360.0                  1.0   \n",
       "479                  No                  360.0                  1.0   \n",
       "\n",
       "    mean__LoanAmount  \n",
       "475            129.0  \n",
       "476            258.0  \n",
       "477       144.145969  \n",
       "478       144.145969  \n",
       "479       144.145969  "
      ]
     },
     "execution_count": 34,
     "metadata": {},
     "output_type": "execute_result"
    }
   ],
   "source": [
    "X_train = X_train.reset_index(drop= True)\n",
    "Imputed_df_train = Imputed_df_train.reset_index(drop=True)\n",
    "\n",
    "X_train = pd.concat([X_train, Imputed_df_train], axis=1)\n",
    "X_train.tail()"
   ]
  },
  {
   "cell_type": "code",
   "execution_count": 35,
   "id": "a3e87382",
   "metadata": {},
   "outputs": [
    {
     "data": {
      "text/plain": [
       "Loan_ID                    0\n",
       "Gender                    10\n",
       "Married                    3\n",
       "Dependents                14\n",
       "Education                  0\n",
       "Self_Employed             22\n",
       "ApplicantIncome            0\n",
       "CoapplicantIncome          0\n",
       "LoanAmount                21\n",
       "Loan_Amount_Term          11\n",
       "Credit_History            40\n",
       "Property_Area              0\n",
       "mode__Gender               0\n",
       "mode__Married              0\n",
       "mode__Dependents           0\n",
       "mode__Self_Employed        0\n",
       "mode__Loan_Amount_Term     0\n",
       "mode__Credit_History       0\n",
       "mean__LoanAmount           0\n",
       "dtype: int64"
      ]
     },
     "execution_count": 35,
     "metadata": {},
     "output_type": "execute_result"
    }
   ],
   "source": [
    "X_train.isnull().sum()"
   ]
  },
  {
   "cell_type": "markdown",
   "id": "9610ac98",
   "metadata": {},
   "source": [
    "# One Hot Encoding"
   ]
  },
  {
   "cell_type": "code",
   "execution_count": 36,
   "id": "6270c603",
   "metadata": {},
   "outputs": [],
   "source": [
    "encoder = ColumnTransformer(transformers = [\n",
    "    ('encOH', OneHotEncoder(sparse= False, drop= 'first'), ['mode__Gender', 'mode__Married', 'mode__Dependents', 'mode__Self_Employed', 'Property_Area' ]),\n",
    "    ('encOR', OrdinalEncoder(categories =[[ 'Not Graduate', 'Graduate']]), ['Education'])\n",
    "], remainder= 'drop')"
   ]
  },
  {
   "cell_type": "code",
   "execution_count": 37,
   "id": "3f4dccac",
   "metadata": {},
   "outputs": [
    {
     "data": {
      "text/plain": [
       "array([[1., 1., 0., ..., 1., 0., 1.],\n",
       "       [1., 0., 0., ..., 0., 0., 1.],\n",
       "       [1., 1., 0., ..., 0., 0., 1.],\n",
       "       ...,\n",
       "       [1., 0., 0., ..., 1., 0., 1.],\n",
       "       [0., 0., 1., ..., 1., 0., 1.],\n",
       "       [1., 1., 0., ..., 1., 0., 1.]])"
      ]
     },
     "execution_count": 37,
     "metadata": {},
     "output_type": "execute_result"
    }
   ],
   "source": [
    "encoded_data_train = encoder.fit_transform(X_train)\n",
    "encoded_data_train"
   ]
  },
  {
   "cell_type": "code",
   "execution_count": 38,
   "id": "b73cae4a",
   "metadata": {},
   "outputs": [
    {
     "data": {
      "text/plain": [
       "array(['mode__Gender_Male', 'mode__Married_Yes', 'mode__Dependents_1',\n",
       "       'mode__Dependents_2', 'mode__Dependents_3+',\n",
       "       'mode__Self_Employed_Yes', 'Property_Area_Semiurban',\n",
       "       'Property_Area_Urban'], dtype=object)"
      ]
     },
     "execution_count": 38,
     "metadata": {},
     "output_type": "execute_result"
    }
   ],
   "source": [
    "encoder.named_transformers_['encOH'].get_feature_names_out()"
   ]
  },
  {
   "cell_type": "code",
   "execution_count": 39,
   "id": "8b1c2c41",
   "metadata": {},
   "outputs": [
    {
     "data": {
      "text/plain": [
       "array(['encOH__mode__Gender_Male', 'encOH__mode__Married_Yes',\n",
       "       'encOH__mode__Dependents_1', 'encOH__mode__Dependents_2',\n",
       "       'encOH__mode__Dependents_3+', 'encOH__mode__Self_Employed_Yes',\n",
       "       'encOH__Property_Area_Semiurban', 'encOH__Property_Area_Urban',\n",
       "       'encOR__Education'], dtype=object)"
      ]
     },
     "execution_count": 39,
     "metadata": {},
     "output_type": "execute_result"
    }
   ],
   "source": [
    "new_cols = encoder.get_feature_names_out()\n",
    "new_cols"
   ]
  },
  {
   "cell_type": "code",
   "execution_count": 40,
   "id": "a7dbe0b6",
   "metadata": {},
   "outputs": [
    {
     "data": {
      "text/html": [
       "<div>\n",
       "<style scoped>\n",
       "    .dataframe tbody tr th:only-of-type {\n",
       "        vertical-align: middle;\n",
       "    }\n",
       "\n",
       "    .dataframe tbody tr th {\n",
       "        vertical-align: top;\n",
       "    }\n",
       "\n",
       "    .dataframe thead th {\n",
       "        text-align: right;\n",
       "    }\n",
       "</style>\n",
       "<table border=\"1\" class=\"dataframe\">\n",
       "  <thead>\n",
       "    <tr style=\"text-align: right;\">\n",
       "      <th></th>\n",
       "      <th>encOH__mode__Gender_Male</th>\n",
       "      <th>encOH__mode__Married_Yes</th>\n",
       "      <th>encOH__mode__Dependents_1</th>\n",
       "      <th>encOH__mode__Dependents_2</th>\n",
       "      <th>encOH__mode__Dependents_3+</th>\n",
       "      <th>encOH__mode__Self_Employed_Yes</th>\n",
       "      <th>encOH__Property_Area_Semiurban</th>\n",
       "      <th>encOH__Property_Area_Urban</th>\n",
       "      <th>encOR__Education</th>\n",
       "    </tr>\n",
       "  </thead>\n",
       "  <tbody>\n",
       "    <tr>\n",
       "      <th>0</th>\n",
       "      <td>1</td>\n",
       "      <td>1</td>\n",
       "      <td>0</td>\n",
       "      <td>1</td>\n",
       "      <td>0</td>\n",
       "      <td>0</td>\n",
       "      <td>1</td>\n",
       "      <td>0</td>\n",
       "      <td>1</td>\n",
       "    </tr>\n",
       "    <tr>\n",
       "      <th>1</th>\n",
       "      <td>1</td>\n",
       "      <td>0</td>\n",
       "      <td>0</td>\n",
       "      <td>0</td>\n",
       "      <td>0</td>\n",
       "      <td>0</td>\n",
       "      <td>0</td>\n",
       "      <td>0</td>\n",
       "      <td>1</td>\n",
       "    </tr>\n",
       "    <tr>\n",
       "      <th>2</th>\n",
       "      <td>1</td>\n",
       "      <td>1</td>\n",
       "      <td>0</td>\n",
       "      <td>0</td>\n",
       "      <td>0</td>\n",
       "      <td>0</td>\n",
       "      <td>0</td>\n",
       "      <td>0</td>\n",
       "      <td>1</td>\n",
       "    </tr>\n",
       "    <tr>\n",
       "      <th>3</th>\n",
       "      <td>1</td>\n",
       "      <td>0</td>\n",
       "      <td>0</td>\n",
       "      <td>0</td>\n",
       "      <td>0</td>\n",
       "      <td>1</td>\n",
       "      <td>0</td>\n",
       "      <td>0</td>\n",
       "      <td>1</td>\n",
       "    </tr>\n",
       "    <tr>\n",
       "      <th>4</th>\n",
       "      <td>1</td>\n",
       "      <td>1</td>\n",
       "      <td>0</td>\n",
       "      <td>0</td>\n",
       "      <td>0</td>\n",
       "      <td>0</td>\n",
       "      <td>0</td>\n",
       "      <td>0</td>\n",
       "      <td>1</td>\n",
       "    </tr>\n",
       "  </tbody>\n",
       "</table>\n",
       "</div>"
      ],
      "text/plain": [
       "   encOH__mode__Gender_Male  encOH__mode__Married_Yes  \\\n",
       "0                         1                         1   \n",
       "1                         1                         0   \n",
       "2                         1                         1   \n",
       "3                         1                         0   \n",
       "4                         1                         1   \n",
       "\n",
       "   encOH__mode__Dependents_1  encOH__mode__Dependents_2  \\\n",
       "0                          0                          1   \n",
       "1                          0                          0   \n",
       "2                          0                          0   \n",
       "3                          0                          0   \n",
       "4                          0                          0   \n",
       "\n",
       "   encOH__mode__Dependents_3+  encOH__mode__Self_Employed_Yes  \\\n",
       "0                           0                               0   \n",
       "1                           0                               0   \n",
       "2                           0                               0   \n",
       "3                           0                               1   \n",
       "4                           0                               0   \n",
       "\n",
       "   encOH__Property_Area_Semiurban  encOH__Property_Area_Urban  \\\n",
       "0                               1                           0   \n",
       "1                               0                           0   \n",
       "2                               0                           0   \n",
       "3                               0                           0   \n",
       "4                               0                           0   \n",
       "\n",
       "   encOR__Education  \n",
       "0                 1  \n",
       "1                 1  \n",
       "2                 1  \n",
       "3                 1  \n",
       "4                 1  "
      ]
     },
     "execution_count": 40,
     "metadata": {},
     "output_type": "execute_result"
    }
   ],
   "source": [
    "encoded_df_train = pd.DataFrame(encoded_data_train, columns=new_cols, dtype= int)\n",
    "encoded_df_train.head()"
   ]
  },
  {
   "cell_type": "code",
   "execution_count": 41,
   "id": "35d230b0",
   "metadata": {},
   "outputs": [
    {
     "data": {
      "text/html": [
       "<div>\n",
       "<style scoped>\n",
       "    .dataframe tbody tr th:only-of-type {\n",
       "        vertical-align: middle;\n",
       "    }\n",
       "\n",
       "    .dataframe tbody tr th {\n",
       "        vertical-align: top;\n",
       "    }\n",
       "\n",
       "    .dataframe thead th {\n",
       "        text-align: right;\n",
       "    }\n",
       "</style>\n",
       "<table border=\"1\" class=\"dataframe\">\n",
       "  <thead>\n",
       "    <tr style=\"text-align: right;\">\n",
       "      <th></th>\n",
       "      <th>Loan_ID</th>\n",
       "      <th>Gender</th>\n",
       "      <th>Married</th>\n",
       "      <th>Dependents</th>\n",
       "      <th>Education</th>\n",
       "      <th>Self_Employed</th>\n",
       "      <th>ApplicantIncome</th>\n",
       "      <th>CoapplicantIncome</th>\n",
       "      <th>LoanAmount</th>\n",
       "      <th>Loan_Amount_Term</th>\n",
       "      <th>Credit_History</th>\n",
       "      <th>Property_Area</th>\n",
       "      <th>mode__Gender</th>\n",
       "      <th>mode__Married</th>\n",
       "      <th>mode__Dependents</th>\n",
       "      <th>mode__Self_Employed</th>\n",
       "      <th>mode__Loan_Amount_Term</th>\n",
       "      <th>mode__Credit_History</th>\n",
       "      <th>mean__LoanAmount</th>\n",
       "      <th>encOH__mode__Gender_Male</th>\n",
       "      <th>encOH__mode__Married_Yes</th>\n",
       "      <th>encOH__mode__Dependents_1</th>\n",
       "      <th>encOH__mode__Dependents_2</th>\n",
       "      <th>encOH__mode__Dependents_3+</th>\n",
       "      <th>encOH__mode__Self_Employed_Yes</th>\n",
       "      <th>encOH__Property_Area_Semiurban</th>\n",
       "      <th>encOH__Property_Area_Urban</th>\n",
       "      <th>encOR__Education</th>\n",
       "    </tr>\n",
       "  </thead>\n",
       "  <tbody>\n",
       "    <tr>\n",
       "      <th>0</th>\n",
       "      <td>LP002197</td>\n",
       "      <td>Male</td>\n",
       "      <td>Yes</td>\n",
       "      <td>2</td>\n",
       "      <td>Graduate</td>\n",
       "      <td>No</td>\n",
       "      <td>5185</td>\n",
       "      <td>0.0</td>\n",
       "      <td>155.0</td>\n",
       "      <td>360.0</td>\n",
       "      <td>1.0</td>\n",
       "      <td>Semiurban</td>\n",
       "      <td>Male</td>\n",
       "      <td>Yes</td>\n",
       "      <td>2</td>\n",
       "      <td>No</td>\n",
       "      <td>360.0</td>\n",
       "      <td>1.0</td>\n",
       "      <td>155.0</td>\n",
       "      <td>1</td>\n",
       "      <td>1</td>\n",
       "      <td>0</td>\n",
       "      <td>1</td>\n",
       "      <td>0</td>\n",
       "      <td>0</td>\n",
       "      <td>1</td>\n",
       "      <td>0</td>\n",
       "      <td>1</td>\n",
       "    </tr>\n",
       "    <tr>\n",
       "      <th>1</th>\n",
       "      <td>LP002652</td>\n",
       "      <td>Male</td>\n",
       "      <td>No</td>\n",
       "      <td>0</td>\n",
       "      <td>Graduate</td>\n",
       "      <td>No</td>\n",
       "      <td>5815</td>\n",
       "      <td>3666.0</td>\n",
       "      <td>311.0</td>\n",
       "      <td>360.0</td>\n",
       "      <td>1.0</td>\n",
       "      <td>Rural</td>\n",
       "      <td>Male</td>\n",
       "      <td>No</td>\n",
       "      <td>0</td>\n",
       "      <td>No</td>\n",
       "      <td>360.0</td>\n",
       "      <td>1.0</td>\n",
       "      <td>311.0</td>\n",
       "      <td>1</td>\n",
       "      <td>0</td>\n",
       "      <td>0</td>\n",
       "      <td>0</td>\n",
       "      <td>0</td>\n",
       "      <td>0</td>\n",
       "      <td>0</td>\n",
       "      <td>0</td>\n",
       "      <td>1</td>\n",
       "    </tr>\n",
       "    <tr>\n",
       "      <th>2</th>\n",
       "      <td>LP002449</td>\n",
       "      <td>Male</td>\n",
       "      <td>Yes</td>\n",
       "      <td>0</td>\n",
       "      <td>Graduate</td>\n",
       "      <td>No</td>\n",
       "      <td>2483</td>\n",
       "      <td>2466.0</td>\n",
       "      <td>90.0</td>\n",
       "      <td>180.0</td>\n",
       "      <td>0.0</td>\n",
       "      <td>Rural</td>\n",
       "      <td>Male</td>\n",
       "      <td>Yes</td>\n",
       "      <td>0</td>\n",
       "      <td>No</td>\n",
       "      <td>180.0</td>\n",
       "      <td>0.0</td>\n",
       "      <td>90.0</td>\n",
       "      <td>1</td>\n",
       "      <td>1</td>\n",
       "      <td>0</td>\n",
       "      <td>0</td>\n",
       "      <td>0</td>\n",
       "      <td>0</td>\n",
       "      <td>0</td>\n",
       "      <td>0</td>\n",
       "      <td>1</td>\n",
       "    </tr>\n",
       "    <tr>\n",
       "      <th>3</th>\n",
       "      <td>LP001761</td>\n",
       "      <td>Male</td>\n",
       "      <td>No</td>\n",
       "      <td>0</td>\n",
       "      <td>Graduate</td>\n",
       "      <td>Yes</td>\n",
       "      <td>6400</td>\n",
       "      <td>0.0</td>\n",
       "      <td>200.0</td>\n",
       "      <td>360.0</td>\n",
       "      <td>1.0</td>\n",
       "      <td>Rural</td>\n",
       "      <td>Male</td>\n",
       "      <td>No</td>\n",
       "      <td>0</td>\n",
       "      <td>Yes</td>\n",
       "      <td>360.0</td>\n",
       "      <td>1.0</td>\n",
       "      <td>200.0</td>\n",
       "      <td>1</td>\n",
       "      <td>0</td>\n",
       "      <td>0</td>\n",
       "      <td>0</td>\n",
       "      <td>0</td>\n",
       "      <td>1</td>\n",
       "      <td>0</td>\n",
       "      <td>0</td>\n",
       "      <td>1</td>\n",
       "    </tr>\n",
       "    <tr>\n",
       "      <th>4</th>\n",
       "      <td>LP001926</td>\n",
       "      <td>Male</td>\n",
       "      <td>Yes</td>\n",
       "      <td>0</td>\n",
       "      <td>Graduate</td>\n",
       "      <td>No</td>\n",
       "      <td>3704</td>\n",
       "      <td>2000.0</td>\n",
       "      <td>120.0</td>\n",
       "      <td>360.0</td>\n",
       "      <td>1.0</td>\n",
       "      <td>Rural</td>\n",
       "      <td>Male</td>\n",
       "      <td>Yes</td>\n",
       "      <td>0</td>\n",
       "      <td>No</td>\n",
       "      <td>360.0</td>\n",
       "      <td>1.0</td>\n",
       "      <td>120.0</td>\n",
       "      <td>1</td>\n",
       "      <td>1</td>\n",
       "      <td>0</td>\n",
       "      <td>0</td>\n",
       "      <td>0</td>\n",
       "      <td>0</td>\n",
       "      <td>0</td>\n",
       "      <td>0</td>\n",
       "      <td>1</td>\n",
       "    </tr>\n",
       "  </tbody>\n",
       "</table>\n",
       "</div>"
      ],
      "text/plain": [
       "    Loan_ID Gender Married Dependents Education Self_Employed  \\\n",
       "0  LP002197   Male     Yes          2  Graduate            No   \n",
       "1  LP002652   Male      No          0  Graduate            No   \n",
       "2  LP002449   Male     Yes          0  Graduate            No   \n",
       "3  LP001761   Male      No          0  Graduate           Yes   \n",
       "4  LP001926   Male     Yes          0  Graduate            No   \n",
       "\n",
       "   ApplicantIncome  CoapplicantIncome  LoanAmount  Loan_Amount_Term  \\\n",
       "0             5185                0.0       155.0             360.0   \n",
       "1             5815             3666.0       311.0             360.0   \n",
       "2             2483             2466.0        90.0             180.0   \n",
       "3             6400                0.0       200.0             360.0   \n",
       "4             3704             2000.0       120.0             360.0   \n",
       "\n",
       "   Credit_History Property_Area mode__Gender mode__Married mode__Dependents  \\\n",
       "0             1.0     Semiurban         Male           Yes                2   \n",
       "1             1.0         Rural         Male            No                0   \n",
       "2             0.0         Rural         Male           Yes                0   \n",
       "3             1.0         Rural         Male            No                0   \n",
       "4             1.0         Rural         Male           Yes                0   \n",
       "\n",
       "  mode__Self_Employed mode__Loan_Amount_Term mode__Credit_History  \\\n",
       "0                  No                  360.0                  1.0   \n",
       "1                  No                  360.0                  1.0   \n",
       "2                  No                  180.0                  0.0   \n",
       "3                 Yes                  360.0                  1.0   \n",
       "4                  No                  360.0                  1.0   \n",
       "\n",
       "  mean__LoanAmount  encOH__mode__Gender_Male  encOH__mode__Married_Yes  \\\n",
       "0            155.0                         1                         1   \n",
       "1            311.0                         1                         0   \n",
       "2             90.0                         1                         1   \n",
       "3            200.0                         1                         0   \n",
       "4            120.0                         1                         1   \n",
       "\n",
       "   encOH__mode__Dependents_1  encOH__mode__Dependents_2  \\\n",
       "0                          0                          1   \n",
       "1                          0                          0   \n",
       "2                          0                          0   \n",
       "3                          0                          0   \n",
       "4                          0                          0   \n",
       "\n",
       "   encOH__mode__Dependents_3+  encOH__mode__Self_Employed_Yes  \\\n",
       "0                           0                               0   \n",
       "1                           0                               0   \n",
       "2                           0                               0   \n",
       "3                           0                               1   \n",
       "4                           0                               0   \n",
       "\n",
       "   encOH__Property_Area_Semiurban  encOH__Property_Area_Urban  \\\n",
       "0                               1                           0   \n",
       "1                               0                           0   \n",
       "2                               0                           0   \n",
       "3                               0                           0   \n",
       "4                               0                           0   \n",
       "\n",
       "   encOR__Education  \n",
       "0                 1  \n",
       "1                 1  \n",
       "2                 1  \n",
       "3                 1  \n",
       "4                 1  "
      ]
     },
     "execution_count": 41,
     "metadata": {},
     "output_type": "execute_result"
    }
   ],
   "source": [
    "X_train = X_train.reset_index(drop= True)\n",
    "encoded_df_train = encoded_df_train.reset_index(drop=True)\n",
    "\n",
    "X_train = pd.concat([X_train, encoded_df_train], axis=1)\n",
    "X_train.head()"
   ]
  },
  {
   "cell_type": "code",
   "execution_count": 42,
   "id": "5d21312c",
   "metadata": {
    "scrolled": true
   },
   "outputs": [
    {
     "data": {
      "text/plain": [
       "Loan_ID                            0\n",
       "Gender                            10\n",
       "Married                            3\n",
       "Dependents                        14\n",
       "Education                          0\n",
       "Self_Employed                     22\n",
       "ApplicantIncome                    0\n",
       "CoapplicantIncome                  0\n",
       "LoanAmount                        21\n",
       "Loan_Amount_Term                  11\n",
       "Credit_History                    40\n",
       "Property_Area                      0\n",
       "mode__Gender                       0\n",
       "mode__Married                      0\n",
       "mode__Dependents                   0\n",
       "mode__Self_Employed                0\n",
       "mode__Loan_Amount_Term             0\n",
       "mode__Credit_History               0\n",
       "mean__LoanAmount                   0\n",
       "encOH__mode__Gender_Male           0\n",
       "encOH__mode__Married_Yes           0\n",
       "encOH__mode__Dependents_1          0\n",
       "encOH__mode__Dependents_2          0\n",
       "encOH__mode__Dependents_3+         0\n",
       "encOH__mode__Self_Employed_Yes     0\n",
       "encOH__Property_Area_Semiurban     0\n",
       "encOH__Property_Area_Urban         0\n",
       "encOR__Education                   0\n",
       "dtype: int64"
      ]
     },
     "execution_count": 42,
     "metadata": {},
     "output_type": "execute_result"
    }
   ],
   "source": [
    "X_train.isnull().sum()"
   ]
  },
  {
   "cell_type": "markdown",
   "id": "6f7b2772",
   "metadata": {},
   "source": [
    "# Imputing & Encoding Validation & Test Dataset"
   ]
  },
  {
   "cell_type": "markdown",
   "id": "ee4e40f3",
   "metadata": {},
   "source": [
    "#### Imputing Val"
   ]
  },
  {
   "cell_type": "code",
   "execution_count": 43,
   "id": "ce3c4bfb",
   "metadata": {},
   "outputs": [],
   "source": [
    "Imputed_data_val = Imputer.transform(X_val)\n",
    "new_cols = Imputer.get_feature_names_out()\n",
    "Imputed_df_val = pd.DataFrame(Imputed_data_val, columns=new_cols)\n",
    "\n",
    "X_val = X_val.reset_index(drop= True)\n",
    "Imputed_df_val = Imputed_df_val.reset_index(drop=True)\n",
    "\n",
    "X_val = pd.concat([X_val, Imputed_df_val], axis=1)"
   ]
  },
  {
   "cell_type": "markdown",
   "id": "f7a15dd7",
   "metadata": {},
   "source": [
    "#### Encoding Val"
   ]
  },
  {
   "cell_type": "code",
   "execution_count": 44,
   "id": "b87752f4",
   "metadata": {},
   "outputs": [],
   "source": [
    "encoded_data_val = encoder.transform(X_val)\n",
    "new_cols = encoder.get_feature_names_out()\n",
    "encoded_df_val = pd.DataFrame(encoded_data_val, columns=new_cols, dtype= int)\n",
    "\n",
    "X_val = X_val.reset_index(drop= True)\n",
    "encoded_df_val = encoded_df_val.reset_index(drop=True)\n",
    "\n",
    "X_val = pd.concat([X_val, encoded_df_val], axis=1)"
   ]
  },
  {
   "cell_type": "markdown",
   "id": "aaec1d8b",
   "metadata": {},
   "source": [
    "#### Imputing Test"
   ]
  },
  {
   "cell_type": "code",
   "execution_count": 45,
   "id": "cdbbad7b",
   "metadata": {},
   "outputs": [],
   "source": [
    "Imputed_data_test = Imputer.transform(test)\n",
    "new_cols = Imputer.get_feature_names_out()\n",
    "Imputed_df_test = pd.DataFrame(Imputed_data_test, columns=new_cols)\n",
    "\n",
    "test = test.reset_index(drop= True)\n",
    "Imputed_df_test = Imputed_df_test.reset_index(drop=True)\n",
    "\n",
    "test = pd.concat([test, Imputed_df_test], axis=1)"
   ]
  },
  {
   "cell_type": "markdown",
   "id": "ff79f627",
   "metadata": {},
   "source": [
    "#### Encoding Test"
   ]
  },
  {
   "cell_type": "code",
   "execution_count": 46,
   "id": "5add6b76",
   "metadata": {},
   "outputs": [],
   "source": [
    "encoded_data_test = encoder.transform(test)\n",
    "new_cols = encoder.get_feature_names_out()\n",
    "encoded_df_test = pd.DataFrame(encoded_data_test, columns=new_cols, dtype= int)\n",
    "\n",
    "test = test.reset_index(drop= True)\n",
    "encoded_df_test = encoded_df_test.reset_index(drop=True)\n",
    "\n",
    "test = pd.concat([test, encoded_df_test], axis=1)"
   ]
  },
  {
   "cell_type": "markdown",
   "id": "fd2ae18d",
   "metadata": {},
   "source": [
    "## Dropping Index Identifier : loan_id"
   ]
  },
  {
   "cell_type": "code",
   "execution_count": 47,
   "id": "85385a17",
   "metadata": {},
   "outputs": [],
   "source": [
    "X_train.drop(['Loan_ID'], axis= 1, inplace= True)\n",
    "X_val.drop(['Loan_ID'], axis= 1, inplace= True)\n",
    "test.drop(['Loan_ID'], axis= 1, inplace= True)"
   ]
  },
  {
   "cell_type": "markdown",
   "id": "44697941",
   "metadata": {},
   "source": [
    "## Validating Data Types of Features"
   ]
  },
  {
   "cell_type": "code",
   "execution_count": 48,
   "id": "c89a9858",
   "metadata": {},
   "outputs": [],
   "source": [
    "# Train\n",
    "X_train['mode__Loan_Amount_Term'] = X_train['mode__Loan_Amount_Term'].astype('int')\n",
    "X_train['mode__Credit_History'] = X_train['mode__Credit_History'].astype('int')\n",
    "X_train['mean__LoanAmount'] = X_train['mean__LoanAmount'].astype('float')\n",
    "\n",
    "# Test\n",
    "X_val['mode__Loan_Amount_Term'] = X_val['mode__Loan_Amount_Term'].astype('int')\n",
    "X_val['mode__Credit_History'] = X_val['mode__Credit_History'].astype('int')\n",
    "X_val['mean__LoanAmount'] = X_val['mean__LoanAmount'].astype('float')\n",
    "\n",
    "# Val\n",
    "test['mode__Loan_Amount_Term'] = test['mode__Loan_Amount_Term'].astype('int')\n",
    "test['mode__Credit_History'] = test['mode__Credit_History'].astype('int')\n",
    "test['mean__LoanAmount'] = test['mean__LoanAmount'].astype('float')"
   ]
  },
  {
   "cell_type": "code",
   "execution_count": null,
   "id": "0cf1322e",
   "metadata": {},
   "outputs": [],
   "source": []
  },
  {
   "cell_type": "markdown",
   "id": "b7d98000",
   "metadata": {},
   "source": [
    "## Separating Numerical Features for Further Analysis"
   ]
  },
  {
   "cell_type": "code",
   "execution_count": 49,
   "id": "fc171402",
   "metadata": {},
   "outputs": [],
   "source": [
    "numerical_features = [ 'ApplicantIncome', 'CoapplicantIncome', 'mean__LoanAmount', 'mode__Loan_Amount_Term', 'mode__Credit_History' ]"
   ]
  },
  {
   "cell_type": "markdown",
   "id": "dbe8d6db",
   "metadata": {},
   "source": [
    "## Detecting `Multi-Collinearity`"
   ]
  },
  {
   "cell_type": "code",
   "execution_count": 50,
   "id": "f5a2e435",
   "metadata": {},
   "outputs": [
    {
     "data": {
      "text/html": [
       "<div>\n",
       "<style scoped>\n",
       "    .dataframe tbody tr th:only-of-type {\n",
       "        vertical-align: middle;\n",
       "    }\n",
       "\n",
       "    .dataframe tbody tr th {\n",
       "        vertical-align: top;\n",
       "    }\n",
       "\n",
       "    .dataframe thead th {\n",
       "        text-align: right;\n",
       "    }\n",
       "</style>\n",
       "<table border=\"1\" class=\"dataframe\">\n",
       "  <thead>\n",
       "    <tr style=\"text-align: right;\">\n",
       "      <th></th>\n",
       "      <th>ApplicantIncome</th>\n",
       "      <th>CoapplicantIncome</th>\n",
       "      <th>mean__LoanAmount</th>\n",
       "      <th>mode__Loan_Amount_Term</th>\n",
       "      <th>mode__Credit_History</th>\n",
       "    </tr>\n",
       "  </thead>\n",
       "  <tbody>\n",
       "    <tr>\n",
       "      <th>ApplicantIncome</th>\n",
       "      <td>1.00</td>\n",
       "      <td>-0.16</td>\n",
       "      <td>0.62</td>\n",
       "      <td>0.02</td>\n",
       "      <td>0.06</td>\n",
       "    </tr>\n",
       "    <tr>\n",
       "      <th>CoapplicantIncome</th>\n",
       "      <td>-0.16</td>\n",
       "      <td>1.00</td>\n",
       "      <td>0.25</td>\n",
       "      <td>-0.06</td>\n",
       "      <td>-0.03</td>\n",
       "    </tr>\n",
       "    <tr>\n",
       "      <th>mean__LoanAmount</th>\n",
       "      <td>0.62</td>\n",
       "      <td>0.25</td>\n",
       "      <td>1.00</td>\n",
       "      <td>0.11</td>\n",
       "      <td>0.05</td>\n",
       "    </tr>\n",
       "    <tr>\n",
       "      <th>mode__Loan_Amount_Term</th>\n",
       "      <td>0.02</td>\n",
       "      <td>-0.06</td>\n",
       "      <td>0.11</td>\n",
       "      <td>1.00</td>\n",
       "      <td>-0.00</td>\n",
       "    </tr>\n",
       "    <tr>\n",
       "      <th>mode__Credit_History</th>\n",
       "      <td>0.06</td>\n",
       "      <td>-0.03</td>\n",
       "      <td>0.05</td>\n",
       "      <td>-0.00</td>\n",
       "      <td>1.00</td>\n",
       "    </tr>\n",
       "  </tbody>\n",
       "</table>\n",
       "</div>"
      ],
      "text/plain": [
       "                        ApplicantIncome  CoapplicantIncome  mean__LoanAmount  \\\n",
       "ApplicantIncome                    1.00              -0.16              0.62   \n",
       "CoapplicantIncome                 -0.16               1.00              0.25   \n",
       "mean__LoanAmount                   0.62               0.25              1.00   \n",
       "mode__Loan_Amount_Term             0.02              -0.06              0.11   \n",
       "mode__Credit_History               0.06              -0.03              0.05   \n",
       "\n",
       "                        mode__Loan_Amount_Term  mode__Credit_History  \n",
       "ApplicantIncome                           0.02                  0.06  \n",
       "CoapplicantIncome                        -0.06                 -0.03  \n",
       "mean__LoanAmount                          0.11                  0.05  \n",
       "mode__Loan_Amount_Term                    1.00                 -0.00  \n",
       "mode__Credit_History                     -0.00                  1.00  "
      ]
     },
     "execution_count": 50,
     "metadata": {},
     "output_type": "execute_result"
    }
   ],
   "source": [
    "X_train[numerical_features].corr().round(2)"
   ]
  },
  {
   "cell_type": "code",
   "execution_count": 51,
   "id": "5e07ec64",
   "metadata": {},
   "outputs": [
    {
     "data": {
      "text/plain": [
       "<AxesSubplot: >"
      ]
     },
     "execution_count": 51,
     "metadata": {},
     "output_type": "execute_result"
    },
    {
     "data": {
      "image/png": "[encoded data removed]",
      "text/plain": [
       "<Figure size 432x288 with 2 Axes>"
      ]
     },
     "metadata": {
      "needs_background": "light"
     },
     "output_type": "display_data"
    }
   ],
   "source": [
    "sns.heatmap(X_train[numerical_features].corr().round(2), annot= True, cmap='coolwarm')"
   ]
  },
  {
   "cell_type": "markdown",
   "id": "56f40827",
   "metadata": {},
   "source": [
    "#### Quick Statistical Summary of Data"
   ]
  },
  {
   "cell_type": "code",
   "execution_count": 52,
   "id": "5783fb60",
   "metadata": {},
   "outputs": [
    {
     "data": {
      "text/html": [
       "<div>\n",
       "<style scoped>\n",
       "    .dataframe tbody tr th:only-of-type {\n",
       "        vertical-align: middle;\n",
       "    }\n",
       "\n",
       "    .dataframe tbody tr th {\n",
       "        vertical-align: top;\n",
       "    }\n",
       "\n",
       "    .dataframe thead th {\n",
       "        text-align: right;\n",
       "    }\n",
       "</style>\n",
       "<table border=\"1\" class=\"dataframe\">\n",
       "  <thead>\n",
       "    <tr style=\"text-align: right;\">\n",
       "      <th></th>\n",
       "      <th>ApplicantIncome</th>\n",
       "      <th>CoapplicantIncome</th>\n",
       "      <th>mean__LoanAmount</th>\n",
       "      <th>mode__Loan_Amount_Term</th>\n",
       "      <th>mode__Credit_History</th>\n",
       "    </tr>\n",
       "  </thead>\n",
       "  <tbody>\n",
       "    <tr>\n",
       "      <th>count</th>\n",
       "      <td>480.00</td>\n",
       "      <td>480.00</td>\n",
       "      <td>480.00</td>\n",
       "      <td>480.00</td>\n",
       "      <td>480.00</td>\n",
       "    </tr>\n",
       "    <tr>\n",
       "      <th>mean</th>\n",
       "      <td>5008.53</td>\n",
       "      <td>1441.32</td>\n",
       "      <td>144.15</td>\n",
       "      <td>342.00</td>\n",
       "      <td>0.86</td>\n",
       "    </tr>\n",
       "    <tr>\n",
       "      <th>std</th>\n",
       "      <td>3555.31</td>\n",
       "      <td>1723.58</td>\n",
       "      <td>77.87</td>\n",
       "      <td>66.39</td>\n",
       "      <td>0.35</td>\n",
       "    </tr>\n",
       "    <tr>\n",
       "      <th>min</th>\n",
       "      <td>150.00</td>\n",
       "      <td>0.00</td>\n",
       "      <td>9.00</td>\n",
       "      <td>12.00</td>\n",
       "      <td>0.00</td>\n",
       "    </tr>\n",
       "    <tr>\n",
       "      <th>25%</th>\n",
       "      <td>2912.75</td>\n",
       "      <td>0.00</td>\n",
       "      <td>100.75</td>\n",
       "      <td>360.00</td>\n",
       "      <td>1.00</td>\n",
       "    </tr>\n",
       "    <tr>\n",
       "      <th>50%</th>\n",
       "      <td>3807.00</td>\n",
       "      <td>1128.50</td>\n",
       "      <td>129.50</td>\n",
       "      <td>360.00</td>\n",
       "      <td>1.00</td>\n",
       "    </tr>\n",
       "    <tr>\n",
       "      <th>75%</th>\n",
       "      <td>5818.25</td>\n",
       "      <td>2259.25</td>\n",
       "      <td>165.00</td>\n",
       "      <td>360.00</td>\n",
       "      <td>1.00</td>\n",
       "    </tr>\n",
       "    <tr>\n",
       "      <th>max</th>\n",
       "      <td>20833.00</td>\n",
       "      <td>8980.00</td>\n",
       "      <td>650.00</td>\n",
       "      <td>480.00</td>\n",
       "      <td>1.00</td>\n",
       "    </tr>\n",
       "  </tbody>\n",
       "</table>\n",
       "</div>"
      ],
      "text/plain": [
       "       ApplicantIncome  CoapplicantIncome  mean__LoanAmount  \\\n",
       "count           480.00             480.00            480.00   \n",
       "mean           5008.53            1441.32            144.15   \n",
       "std            3555.31            1723.58             77.87   \n",
       "min             150.00               0.00              9.00   \n",
       "25%            2912.75               0.00            100.75   \n",
       "50%            3807.00            1128.50            129.50   \n",
       "75%            5818.25            2259.25            165.00   \n",
       "max           20833.00            8980.00            650.00   \n",
       "\n",
       "       mode__Loan_Amount_Term  mode__Credit_History  \n",
       "count                  480.00                480.00  \n",
       "mean                   342.00                  0.86  \n",
       "std                     66.39                  0.35  \n",
       "min                     12.00                  0.00  \n",
       "25%                    360.00                  1.00  \n",
       "50%                    360.00                  1.00  \n",
       "75%                    360.00                  1.00  \n",
       "max                    480.00                  1.00  "
      ]
     },
     "execution_count": 52,
     "metadata": {},
     "output_type": "execute_result"
    }
   ],
   "source": [
    "X_train[numerical_features].describe().round(2)"
   ]
  },
  {
   "cell_type": "markdown",
   "id": "1ab909de",
   "metadata": {},
   "source": [
    "- verify the minimum values of feature, if they are negative.\n",
    "- verify if max values of features make sense and are logical\n",
    "- verify if it contains outliers, an idea could be generated by looking min, max & Mean"
   ]
  },
  {
   "cell_type": "markdown",
   "id": "43ac60fe",
   "metadata": {},
   "source": [
    "## Building Base Model"
   ]
  },
  {
   "cell_type": "code",
   "execution_count": 53,
   "id": "a4c8d5d2",
   "metadata": {},
   "outputs": [],
   "source": [
    "final_processed_features = [ 'encOH__mode__Gender_Male', 'encOH__mode__Married_Yes',\n",
    "       'encOH__mode__Dependents_1', 'encOH__mode__Dependents_2',\n",
    "       'encOH__mode__Dependents_3+', 'encOH__mode__Self_Employed_Yes',\n",
    "       'encOH__Property_Area_Semiurban', 'encOH__Property_Area_Urban',\n",
    "       'encOR__Education' , 'mode__Loan_Amount_Term', 'mode__Credit_History', 'mean__LoanAmount'  ]"
   ]
  },
  {
   "cell_type": "code",
   "execution_count": 54,
   "id": "ded3bebc",
   "metadata": {},
   "outputs": [],
   "source": [
    "### Let's try out a few more models\n",
    "\n",
    "from sklearn.preprocessing import StandardScaler\n",
    "from sklearn.preprocessing import MinMaxScaler\n",
    "\n",
    "from sklearn import model_selection\n",
    "from sklearn.metrics import classification_report\n",
    "from sklearn.metrics import confusion_matrix\n",
    "from sklearn.metrics import accuracy_score\n",
    "from sklearn.pipeline import Pipeline\n",
    "from sklearn.model_selection import GridSearchCV\n",
    "from sklearn.linear_model import LogisticRegression\n",
    "from sklearn.tree import DecisionTreeClassifier\n",
    "from sklearn.neighbors import KNeighborsClassifier\n",
    "from sklearn.discriminant_analysis import LinearDiscriminantAnalysis\n",
    "from sklearn.naive_bayes import GaussianNB\n",
    "from sklearn.svm import SVC\n",
    " \n",
    "from sklearn.ensemble import AdaBoostClassifier\n",
    "from sklearn.ensemble import GradientBoostingClassifier\n",
    "from sklearn.ensemble import RandomForestClassifier\n"
   ]
  },
  {
   "cell_type": "code",
   "execution_count": 55,
   "id": "eb96d7e4",
   "metadata": {},
   "outputs": [
    {
     "data": {
      "text/plain": [
       "[('LR', LogisticRegression(class_weight='balanced', random_state=9)),\n",
       " ('LDA', LinearDiscriminantAnalysis()),\n",
       " ('KNN', KNeighborsClassifier()),\n",
       " ('CART', DecisionTreeClassifier(random_state=9)),\n",
       " ('NB', GaussianNB()),\n",
       " ('SVM', SVC(random_state=9)),\n",
       " ('RF', RandomForestClassifier(random_state=9)),\n",
       " ('GB', GradientBoostingClassifier(random_state=9)),\n",
       " ('AdaB', AdaBoostClassifier(random_state=9))]"
      ]
     },
     "execution_count": 55,
     "metadata": {},
     "output_type": "execute_result"
    }
   ],
   "source": [
    "models = []\n",
    "\n",
    "models.append(('LR', LogisticRegression(class_weight='balanced', random_state=9)))\n",
    "models.append(('LDA', LinearDiscriminantAnalysis()))\n",
    "models.append(('KNN', KNeighborsClassifier()))\n",
    "models.append(('CART', DecisionTreeClassifier(random_state=9)))\n",
    "models.append(('NB', GaussianNB()))\n",
    "models.append(('SVM', SVC( random_state=9)))\n",
    "models.append(('RF', RandomForestClassifier(random_state=9)))\n",
    "models.append(('GB', GradientBoostingClassifier(random_state=9)))\n",
    "models.append(('AdaB', AdaBoostClassifier(random_state=9)))\n",
    "\n",
    "models"
   ]
  },
  {
   "cell_type": "code",
   "execution_count": 56,
   "id": "cbbcd631",
   "metadata": {},
   "outputs": [],
   "source": [
    "train_base_scores = []\n",
    "val_base_scores = []\n",
    "model_names = []\n",
    "\n",
    "for name, model in models:\n",
    "    model.fit(X_train[final_processed_features], y_train)\n",
    "    model_names.append(name)\n",
    "    train_base_scores.append(model.score(X_train[final_processed_features], y_train ))\n",
    "    val_base_scores.append(model.score(X_val[final_processed_features], y_val ))"
   ]
  },
  {
   "cell_type": "code",
   "execution_count": 57,
   "id": "a6d71b54",
   "metadata": {
    "scrolled": true
   },
   "outputs": [
    {
     "name": "stdout",
     "output_type": "stream",
     "text": [
      "Model ->  LR\n",
      "Train Score ->  0.77\n",
      "Val Score ->  0.78\n",
      "******************************\n",
      "Model ->  LDA\n",
      "Train Score ->  0.82\n",
      "Val Score ->  0.8\n",
      "******************************\n",
      "Model ->  KNN\n",
      "Train Score ->  0.73\n",
      "Val Score ->  0.69\n",
      "******************************\n",
      "Model ->  CART\n",
      "Train Score ->  0.99\n",
      "Val Score ->  0.73\n",
      "******************************\n",
      "Model ->  NB\n",
      "Train Score ->  0.82\n",
      "Val Score ->  0.79\n",
      "******************************\n",
      "Model ->  SVM\n",
      "Train Score ->  0.69\n",
      "Val Score ->  0.69\n",
      "******************************\n",
      "Model ->  RF\n",
      "Train Score ->  0.99\n",
      "Val Score ->  0.73\n",
      "******************************\n",
      "Model ->  GB\n",
      "Train Score ->  0.88\n",
      "Val Score ->  0.79\n",
      "******************************\n",
      "Model ->  AdaB\n",
      "Train Score ->  0.84\n",
      "Val Score ->  0.78\n",
      "******************************\n"
     ]
    }
   ],
   "source": [
    "for model, train_score, val_score in zip(model_names, train_base_scores, val_base_scores):\n",
    "    print('Model -> ', model)\n",
    "    print('Train Score -> ', round(train_score,2))\n",
    "    print('Val Score -> ', round(val_score,2))\n",
    "    print('*'*30)"
   ]
  },
  {
   "cell_type": "raw",
   "id": "f83493f8",
   "metadata": {},
   "source": [
    "Findings \n",
    "--------\n",
    "Logistic - fine\n",
    "LDA - fine\n",
    "KNN - fine\n",
    "CART - Overfitting, could be used if tuned\n",
    "NB - fine\n",
    "SVM - fine\n",
    "RF - OVerfitting, could be used if tuned\n",
    "GB - Overfitting, coule be used if tuned\n",
    "AdaB - Overfitting, coule be used if tuned\n"
   ]
  },
  {
   "cell_type": "raw",
   "id": "493b8c2d",
   "metadata": {},
   "source": [
    "NOTE\n",
    "====\n",
    "\n",
    "we simply can't proceed with the model performing best with test data, as it's not guaranteed that with new test data, the model performance would be consistent given the pattern is same.\n",
    "\n",
    "answer is CROSSVALIDATION\n",
    "as it is repeated training and testing, we can see the variation in the models performance.\n",
    "\n",
    "So we need to check how close are models predicted values among themselves on similar dataset.\n",
    "Even if is consistently predictiong wrong, it is highly precise.\n",
    "a model which is sometimes good and sometimes bad, thats not good.\n",
    "\n",
    "THIS IS THE REAL USE CASE OF CROSS VALIDATION"
   ]
  },
  {
   "cell_type": "code",
   "execution_count": 58,
   "id": "f1654c78",
   "metadata": {},
   "outputs": [
    {
     "data": {
      "text/plain": [
       "Y    0.691667\n",
       "N    0.308333\n",
       "Name: Loan_Status, dtype: float64"
      ]
     },
     "execution_count": 58,
     "metadata": {},
     "output_type": "execute_result"
    }
   ],
   "source": [
    "y_train.value_counts(normalize=True)"
   ]
  },
  {
   "cell_type": "code",
   "execution_count": 59,
   "id": "d92f4663",
   "metadata": {},
   "outputs": [
    {
     "name": "stdout",
     "output_type": "stream",
     "text": [
      "LR: 75.83 ( 2.02)\n",
      "LDA: 81.88 ( 1.06)\n",
      "KNN: 60.42 ( 1.98)\n",
      "CART: 69.79 ( 5.02)\n",
      "NB: 81.04 ( 0.78)\n",
      "SVM: 69.17 ( 0.51)\n",
      "RF: 79.38 ( 2.83)\n",
      "GB: 77.08 ( 2.95)\n",
      "AdaB: 78.96 ( 1.21)\n"
     ]
    },
    {
     "data": {
      "text/html": [
       "<div>\n",
       "<style scoped>\n",
       "    .dataframe tbody tr th:only-of-type {\n",
       "        vertical-align: middle;\n",
       "    }\n",
       "\n",
       "    .dataframe tbody tr th {\n",
       "        vertical-align: top;\n",
       "    }\n",
       "\n",
       "    .dataframe thead th {\n",
       "        text-align: right;\n",
       "    }\n",
       "</style>\n",
       "<table border=\"1\" class=\"dataframe\">\n",
       "  <thead>\n",
       "    <tr style=\"text-align: right;\">\n",
       "      <th></th>\n",
       "      <th>CV1</th>\n",
       "      <th>CV2</th>\n",
       "      <th>CV3</th>\n",
       "      <th>CV4</th>\n",
       "      <th>CV5</th>\n",
       "      <th>CV Mean</th>\n",
       "      <th>CV Std Dev</th>\n",
       "    </tr>\n",
       "  </thead>\n",
       "  <tbody>\n",
       "    <tr>\n",
       "      <th>LDA</th>\n",
       "      <td>83.333333</td>\n",
       "      <td>80.208333</td>\n",
       "      <td>82.291667</td>\n",
       "      <td>81.250000</td>\n",
       "      <td>82.291667</td>\n",
       "      <td>81.875000</td>\n",
       "      <td>1.187683</td>\n",
       "    </tr>\n",
       "    <tr>\n",
       "      <th>NB</th>\n",
       "      <td>82.291667</td>\n",
       "      <td>80.208333</td>\n",
       "      <td>81.250000</td>\n",
       "      <td>80.208333</td>\n",
       "      <td>81.250000</td>\n",
       "      <td>81.041667</td>\n",
       "      <td>0.871521</td>\n",
       "    </tr>\n",
       "    <tr>\n",
       "      <th>RF</th>\n",
       "      <td>84.375000</td>\n",
       "      <td>78.125000</td>\n",
       "      <td>80.208333</td>\n",
       "      <td>78.125000</td>\n",
       "      <td>76.041667</td>\n",
       "      <td>79.375000</td>\n",
       "      <td>3.159531</td>\n",
       "    </tr>\n",
       "    <tr>\n",
       "      <th>AdaB</th>\n",
       "      <td>78.125000</td>\n",
       "      <td>78.125000</td>\n",
       "      <td>81.250000</td>\n",
       "      <td>79.166667</td>\n",
       "      <td>78.125000</td>\n",
       "      <td>78.958333</td>\n",
       "      <td>1.358167</td>\n",
       "    </tr>\n",
       "    <tr>\n",
       "      <th>GB</th>\n",
       "      <td>78.125000</td>\n",
       "      <td>71.875000</td>\n",
       "      <td>80.208333</td>\n",
       "      <td>79.166667</td>\n",
       "      <td>76.041667</td>\n",
       "      <td>77.083333</td>\n",
       "      <td>3.294039</td>\n",
       "    </tr>\n",
       "    <tr>\n",
       "      <th>LR</th>\n",
       "      <td>72.916667</td>\n",
       "      <td>77.083333</td>\n",
       "      <td>78.125000</td>\n",
       "      <td>77.083333</td>\n",
       "      <td>73.958333</td>\n",
       "      <td>75.833333</td>\n",
       "      <td>2.258280</td>\n",
       "    </tr>\n",
       "    <tr>\n",
       "      <th>CART</th>\n",
       "      <td>62.500000</td>\n",
       "      <td>72.916667</td>\n",
       "      <td>69.791667</td>\n",
       "      <td>77.083333</td>\n",
       "      <td>66.666667</td>\n",
       "      <td>69.791667</td>\n",
       "      <td>5.609547</td>\n",
       "    </tr>\n",
       "    <tr>\n",
       "      <th>SVM</th>\n",
       "      <td>69.791667</td>\n",
       "      <td>69.791667</td>\n",
       "      <td>68.750000</td>\n",
       "      <td>68.750000</td>\n",
       "      <td>68.750000</td>\n",
       "      <td>69.166667</td>\n",
       "      <td>0.570544</td>\n",
       "    </tr>\n",
       "    <tr>\n",
       "      <th>KNN</th>\n",
       "      <td>60.416667</td>\n",
       "      <td>63.541667</td>\n",
       "      <td>60.416667</td>\n",
       "      <td>60.416667</td>\n",
       "      <td>57.291667</td>\n",
       "      <td>60.416667</td>\n",
       "      <td>2.209709</td>\n",
       "    </tr>\n",
       "  </tbody>\n",
       "</table>\n",
       "</div>"
      ],
      "text/plain": [
       "            CV1        CV2        CV3        CV4        CV5    CV Mean  \\\n",
       "LDA   83.333333  80.208333  82.291667  81.250000  82.291667  81.875000   \n",
       "NB    82.291667  80.208333  81.250000  80.208333  81.250000  81.041667   \n",
       "RF    84.375000  78.125000  80.208333  78.125000  76.041667  79.375000   \n",
       "AdaB  78.125000  78.125000  81.250000  79.166667  78.125000  78.958333   \n",
       "GB    78.125000  71.875000  80.208333  79.166667  76.041667  77.083333   \n",
       "LR    72.916667  77.083333  78.125000  77.083333  73.958333  75.833333   \n",
       "CART  62.500000  72.916667  69.791667  77.083333  66.666667  69.791667   \n",
       "SVM   69.791667  69.791667  68.750000  68.750000  68.750000  69.166667   \n",
       "KNN   60.416667  63.541667  60.416667  60.416667  57.291667  60.416667   \n",
       "\n",
       "      CV Std Dev  \n",
       "LDA     1.187683  \n",
       "NB      0.871521  \n",
       "RF      3.159531  \n",
       "AdaB    1.358167  \n",
       "GB      3.294039  \n",
       "LR      2.258280  \n",
       "CART    5.609547  \n",
       "SVM     0.570544  \n",
       "KNN     2.209709  "
      ]
     },
     "execution_count": 59,
     "metadata": {},
     "output_type": "execute_result"
    }
   ],
   "source": [
    "from sklearn.model_selection import StratifiedKFold, cross_val_score\n",
    "\n",
    "results = []\n",
    "model_names = []\n",
    "n_splits= 5\n",
    "\n",
    "for name, model in models:\n",
    "    kfold = StratifiedKFold(n_splits= 5, shuffle= True, random_state= 9)\n",
    "    cv_results = cross_val_score(model, X_train[final_processed_features], y_train, cv= kfold)\n",
    "    results.append(cv_results)\n",
    "    model_names.append(name)\n",
    "    \n",
    "    msg = \"%s: %5.2f (%5.2f)\" % (name, cv_results.mean()*100, cv_results.std()*100)\n",
    "    print(msg)\n",
    "    \n",
    "results_df = pd.DataFrame(results, index = model_names, columns = 'CV1 CV2 CV3 CV4 CV5'.split())\n",
    "results_df['CV Mean'] = results_df.iloc[:, 0:n_splits].mean(axis=1)\n",
    "results_df['CV Std Dev'] = results_df.iloc[:, 0:n_splits].std(axis=1)\n",
    "results_df.sort_values(by= 'CV Mean', ascending= False)*100\n",
    "\n",
    "\n",
    "    "
   ]
  },
  {
   "cell_type": "raw",
   "id": "bc65b95b",
   "metadata": {},
   "source": [
    " Note\n",
    "=====\n",
    "\n",
    "We should use whole Training Data for Cross Validation (not X_Train or any splitted part.\n",
    "Reason being, the data is already pslitted in Cross Validation in n folds, and here also if we are passing Splitted data then the overall % of data used to train individual models becomes insufficient to get descent scores and understand real predictive power of our model."
   ]
  },
  {
   "cell_type": "markdown",
   "id": "416e199b",
   "metadata": {},
   "source": [
    "## Scaling Features"
   ]
  },
  {
   "cell_type": "code",
   "execution_count": 60,
   "id": "8162865f",
   "metadata": {},
   "outputs": [],
   "source": [
    "from sklearn.preprocessing import StandardScaler\n",
    "\n",
    "scaler = StandardScaler()"
   ]
  },
  {
   "cell_type": "code",
   "execution_count": 61,
   "id": "9500fff7",
   "metadata": {},
   "outputs": [],
   "source": [
    "cols_to_scale = ['mode__Loan_Amount_Term', 'mean__LoanAmount']"
   ]
  },
  {
   "cell_type": "code",
   "execution_count": 62,
   "id": "f5247965",
   "metadata": {},
   "outputs": [
    {
     "data": {
      "text/html": [
       "<style>#sk-container-id-1 {color: black;background-color: white;}#sk-container-id-1 pre{padding: 0;}#sk-container-id-1 div.sk-toggleable {background-color: white;}#sk-container-id-1 label.sk-toggleable__label {cursor: pointer;display: block;width: 100%;margin-bottom: 0;padding: 0.3em;box-sizing: border-box;text-align: center;}#sk-container-id-1 label.sk-toggleable__label-arrow:before {content: \"▸\";float: left;margin-right: 0.25em;color: #696969;}#sk-container-id-1 label.sk-toggleable__label-arrow:hover:before {color: black;}#sk-container-id-1 div.sk-estimator:hover label.sk-toggleable__label-arrow:before {color: black;}#sk-container-id-1 div.sk-toggleable__content {max-height: 0;max-width: 0;overflow: hidden;text-align: left;background-color: #f0f8ff;}#sk-container-id-1 div.sk-toggleable__content pre {margin: 0.2em;color: black;border-radius: 0.25em;background-color: #f0f8ff;}#sk-container-id-1 input.sk-toggleable__control:checked~div.sk-toggleable__content {max-height: 200px;max-width: 100%;overflow: auto;}#sk-container-id-1 input.sk-toggleable__control:checked~label.sk-toggleable__label-arrow:before {content: \"▾\";}#sk-container-id-1 div.sk-estimator input.sk-toggleable__control:checked~label.sk-toggleable__label {background-color: #d4ebff;}#sk-container-id-1 div.sk-label input.sk-toggleable__control:checked~label.sk-toggleable__label {background-color: #d4ebff;}#sk-container-id-1 input.sk-hidden--visually {border: 0;clip: rect(1px 1px 1px 1px);clip: rect(1px, 1px, 1px, 1px);height: 1px;margin: -1px;overflow: hidden;padding: 0;position: absolute;width: 1px;}#sk-container-id-1 div.sk-estimator {font-family: monospace;background-color: #f0f8ff;border: 1px dotted black;border-radius: 0.25em;box-sizing: border-box;margin-bottom: 0.5em;}#sk-container-id-1 div.sk-estimator:hover {background-color: #d4ebff;}#sk-container-id-1 div.sk-parallel-item::after {content: \"\";width: 100%;border-bottom: 1px solid gray;flex-grow: 1;}#sk-container-id-1 div.sk-label:hover label.sk-toggleable__label {background-color: #d4ebff;}#sk-container-id-1 div.sk-serial::before {content: \"\";position: absolute;border-left: 1px solid gray;box-sizing: border-box;top: 0;bottom: 0;left: 50%;z-index: 0;}#sk-container-id-1 div.sk-serial {display: flex;flex-direction: column;align-items: center;background-color: white;padding-right: 0.2em;padding-left: 0.2em;position: relative;}#sk-container-id-1 div.sk-item {position: relative;z-index: 1;}#sk-container-id-1 div.sk-parallel {display: flex;align-items: stretch;justify-content: center;background-color: white;position: relative;}#sk-container-id-1 div.sk-item::before, #sk-container-id-1 div.sk-parallel-item::before {content: \"\";position: absolute;border-left: 1px solid gray;box-sizing: border-box;top: 0;bottom: 0;left: 50%;z-index: -1;}#sk-container-id-1 div.sk-parallel-item {display: flex;flex-direction: column;z-index: 1;position: relative;background-color: white;}#sk-container-id-1 div.sk-parallel-item:first-child::after {align-self: flex-end;width: 50%;}#sk-container-id-1 div.sk-parallel-item:last-child::after {align-self: flex-start;width: 50%;}#sk-container-id-1 div.sk-parallel-item:only-child::after {width: 0;}#sk-container-id-1 div.sk-dashed-wrapped {border: 1px dashed gray;margin: 0 0.4em 0.5em 0.4em;box-sizing: border-box;padding-bottom: 0.4em;background-color: white;}#sk-container-id-1 div.sk-label label {font-family: monospace;font-weight: bold;display: inline-block;line-height: 1.2em;}#sk-container-id-1 div.sk-label-container {text-align: center;}#sk-container-id-1 div.sk-container {/* jupyter's `normalize.less` sets `[hidden] { display: none; }` but bootstrap.min.css set `[hidden] { display: none !important; }` so we also need the `!important` here to be able to override the default hidden behavior on the sphinx rendered scikit-learn.org. See: https://github.com/scikit-learn/scikit-learn/issues/21755 */display: inline-block !important;position: relative;}#sk-container-id-1 div.sk-text-repr-fallback {display: none;}</style><div id=\"sk-container-id-1\" class=\"sk-top-container\"><div class=\"sk-text-repr-fallback\"><pre>StandardScaler()</pre><b>In a Jupyter environment, please rerun this cell to show the HTML representation or trust the notebook. <br />On GitHub, the HTML representation is unable to render, please try loading this page with nbviewer.org.</b></div><div class=\"sk-container\" hidden><div class=\"sk-item\"><div class=\"sk-estimator sk-toggleable\"><input class=\"sk-toggleable__control sk-hidden--visually\" id=\"sk-estimator-id-1\" type=\"checkbox\" checked><label for=\"sk-estimator-id-1\" class=\"sk-toggleable__label sk-toggleable__label-arrow\">StandardScaler</label><div class=\"sk-toggleable__content\"><pre>StandardScaler()</pre></div></div></div></div></div>"
      ],
      "text/plain": [
       "StandardScaler()"
      ]
     },
     "execution_count": 62,
     "metadata": {},
     "output_type": "execute_result"
    }
   ],
   "source": [
    "scaler.fit(X_train[cols_to_scale])"
   ]
  },
  {
   "cell_type": "code",
   "execution_count": 63,
   "id": "67300e7d",
   "metadata": {},
   "outputs": [],
   "source": [
    "X_train[cols_to_scale] = scaler.transform(X_train[cols_to_scale])\n",
    "X_val[cols_to_scale] = scaler.transform(X_val[cols_to_scale])\n",
    "test[cols_to_scale] = scaler.transform(test[cols_to_scale])"
   ]
  },
  {
   "cell_type": "markdown",
   "id": "48b16ddc",
   "metadata": {},
   "source": [
    "## Re Training & Evaluating Models"
   ]
  },
  {
   "cell_type": "code",
   "execution_count": 64,
   "id": "d0dfd782",
   "metadata": {},
   "outputs": [
    {
     "name": "stdout",
     "output_type": "stream",
     "text": [
      "LR: 76.04 ( 2.47)\n",
      "LDA: 81.88 ( 1.06)\n",
      "KNN: 74.17 ( 2.83)\n",
      "CART: 69.79 ( 5.02)\n",
      "NB: 81.04 ( 0.78)\n",
      "SVM: 81.04 ( 2.02)\n",
      "RF: 79.38 ( 2.83)\n",
      "GB: 77.29 ( 2.59)\n",
      "AdaB: 79.17 ( 1.14)\n"
     ]
    },
    {
     "data": {
      "text/html": [
       "<div>\n",
       "<style scoped>\n",
       "    .dataframe tbody tr th:only-of-type {\n",
       "        vertical-align: middle;\n",
       "    }\n",
       "\n",
       "    .dataframe tbody tr th {\n",
       "        vertical-align: top;\n",
       "    }\n",
       "\n",
       "    .dataframe thead th {\n",
       "        text-align: right;\n",
       "    }\n",
       "</style>\n",
       "<table border=\"1\" class=\"dataframe\">\n",
       "  <thead>\n",
       "    <tr style=\"text-align: right;\">\n",
       "      <th></th>\n",
       "      <th>CV1</th>\n",
       "      <th>CV2</th>\n",
       "      <th>CV3</th>\n",
       "      <th>CV4</th>\n",
       "      <th>CV5</th>\n",
       "      <th>CV Mean</th>\n",
       "      <th>CV Std Dev</th>\n",
       "    </tr>\n",
       "  </thead>\n",
       "  <tbody>\n",
       "    <tr>\n",
       "      <th>LDA</th>\n",
       "      <td>83.333333</td>\n",
       "      <td>80.208333</td>\n",
       "      <td>82.291667</td>\n",
       "      <td>81.250000</td>\n",
       "      <td>82.291667</td>\n",
       "      <td>81.875000</td>\n",
       "      <td>1.187683</td>\n",
       "    </tr>\n",
       "    <tr>\n",
       "      <th>NB</th>\n",
       "      <td>82.291667</td>\n",
       "      <td>80.208333</td>\n",
       "      <td>81.250000</td>\n",
       "      <td>80.208333</td>\n",
       "      <td>81.250000</td>\n",
       "      <td>81.041667</td>\n",
       "      <td>0.871521</td>\n",
       "    </tr>\n",
       "    <tr>\n",
       "      <th>SVM</th>\n",
       "      <td>83.333333</td>\n",
       "      <td>80.208333</td>\n",
       "      <td>83.333333</td>\n",
       "      <td>80.208333</td>\n",
       "      <td>78.125000</td>\n",
       "      <td>81.041667</td>\n",
       "      <td>2.258280</td>\n",
       "    </tr>\n",
       "    <tr>\n",
       "      <th>RF</th>\n",
       "      <td>84.375000</td>\n",
       "      <td>78.125000</td>\n",
       "      <td>80.208333</td>\n",
       "      <td>78.125000</td>\n",
       "      <td>76.041667</td>\n",
       "      <td>79.375000</td>\n",
       "      <td>3.159531</td>\n",
       "    </tr>\n",
       "    <tr>\n",
       "      <th>AdaB</th>\n",
       "      <td>78.125000</td>\n",
       "      <td>79.166667</td>\n",
       "      <td>81.250000</td>\n",
       "      <td>79.166667</td>\n",
       "      <td>78.125000</td>\n",
       "      <td>79.166667</td>\n",
       "      <td>1.275776</td>\n",
       "    </tr>\n",
       "    <tr>\n",
       "      <th>GB</th>\n",
       "      <td>78.125000</td>\n",
       "      <td>72.916667</td>\n",
       "      <td>80.208333</td>\n",
       "      <td>79.166667</td>\n",
       "      <td>76.041667</td>\n",
       "      <td>77.291667</td>\n",
       "      <td>2.890508</td>\n",
       "    </tr>\n",
       "    <tr>\n",
       "      <th>LR</th>\n",
       "      <td>71.875000</td>\n",
       "      <td>79.166667</td>\n",
       "      <td>77.083333</td>\n",
       "      <td>77.083333</td>\n",
       "      <td>75.000000</td>\n",
       "      <td>76.041667</td>\n",
       "      <td>2.755991</td>\n",
       "    </tr>\n",
       "    <tr>\n",
       "      <th>KNN</th>\n",
       "      <td>71.875000</td>\n",
       "      <td>77.083333</td>\n",
       "      <td>76.041667</td>\n",
       "      <td>76.041667</td>\n",
       "      <td>69.791667</td>\n",
       "      <td>74.166667</td>\n",
       "      <td>3.159531</td>\n",
       "    </tr>\n",
       "    <tr>\n",
       "      <th>CART</th>\n",
       "      <td>62.500000</td>\n",
       "      <td>72.916667</td>\n",
       "      <td>69.791667</td>\n",
       "      <td>77.083333</td>\n",
       "      <td>66.666667</td>\n",
       "      <td>69.791667</td>\n",
       "      <td>5.609547</td>\n",
       "    </tr>\n",
       "  </tbody>\n",
       "</table>\n",
       "</div>"
      ],
      "text/plain": [
       "            CV1        CV2        CV3        CV4        CV5    CV Mean  \\\n",
       "LDA   83.333333  80.208333  82.291667  81.250000  82.291667  81.875000   \n",
       "NB    82.291667  80.208333  81.250000  80.208333  81.250000  81.041667   \n",
       "SVM   83.333333  80.208333  83.333333  80.208333  78.125000  81.041667   \n",
       "RF    84.375000  78.125000  80.208333  78.125000  76.041667  79.375000   \n",
       "AdaB  78.125000  79.166667  81.250000  79.166667  78.125000  79.166667   \n",
       "GB    78.125000  72.916667  80.208333  79.166667  76.041667  77.291667   \n",
       "LR    71.875000  79.166667  77.083333  77.083333  75.000000  76.041667   \n",
       "KNN   71.875000  77.083333  76.041667  76.041667  69.791667  74.166667   \n",
       "CART  62.500000  72.916667  69.791667  77.083333  66.666667  69.791667   \n",
       "\n",
       "      CV Std Dev  \n",
       "LDA     1.187683  \n",
       "NB      0.871521  \n",
       "SVM     2.258280  \n",
       "RF      3.159531  \n",
       "AdaB    1.275776  \n",
       "GB      2.890508  \n",
       "LR      2.755991  \n",
       "KNN     3.159531  \n",
       "CART    5.609547  "
      ]
     },
     "execution_count": 64,
     "metadata": {},
     "output_type": "execute_result"
    }
   ],
   "source": [
    "from sklearn.model_selection import StratifiedKFold, cross_val_score\n",
    "\n",
    "results = []\n",
    "model_names = []\n",
    "n_splits= 5\n",
    "\n",
    "for name, model in models:\n",
    "    kfold = StratifiedKFold(n_splits= 5, shuffle= True, random_state= 9)\n",
    "    cv_results = cross_val_score(model, X_train[final_processed_features], y_train, cv= kfold)\n",
    "    results.append(cv_results)\n",
    "    model_names.append(name)\n",
    "    \n",
    "    msg = \"%s: %5.2f (%5.2f)\" % (name, cv_results.mean()*100, cv_results.std()*100)\n",
    "    print(msg)\n",
    "    \n",
    "results_df = pd.DataFrame(results, index = model_names, columns = 'CV1 CV2 CV3 CV4 CV5'.split())\n",
    "results_df['CV Mean'] = results_df.iloc[:, 0:n_splits].mean(axis=1)\n",
    "results_df['CV Std Dev'] = results_df.iloc[:, 0:n_splits].std(axis=1)\n",
    "results_df.sort_values(by= 'CV Mean', ascending= False)*100\n",
    "\n",
    "\n",
    "    "
   ]
  },
  {
   "cell_type": "raw",
   "id": "d1c53005",
   "metadata": {},
   "source": [
    "Naive Bayes is performing better with appropriate Standard Deviation\n",
    "\n",
    "Let's perform Hyperparameter Tuning for it."
   ]
  },
  {
   "cell_type": "code",
   "execution_count": 65,
   "id": "7d731b17",
   "metadata": {},
   "outputs": [],
   "source": [
    "from sklearn.model_selection import GridSearchCV\n",
    "\n",
    "clf = GaussianNB()\n",
    "\n",
    "# define parameter grid for grid search\n",
    "param_grid = {'var_smoothing': [1e-9, 1e-8, 1e-7, 1e-6, 1e-5]}"
   ]
  },
  {
   "cell_type": "code",
   "execution_count": 66,
   "id": "da8f4b5b",
   "metadata": {},
   "outputs": [
    {
     "name": "stdout",
     "output_type": "stream",
     "text": [
      "Best parameters:  {'var_smoothing': 1e-09}\n",
      "Best accuracy score:  0.7979166666666667\n"
     ]
    }
   ],
   "source": [
    "# perform grid search using 5-fold cross-validation\n",
    "grid_search = GridSearchCV(clf, param_grid=param_grid, cv=5, scoring='accuracy')\n",
    "grid_search.fit(X_train[final_processed_features], y_train)\n",
    "\n",
    "# print the best parameters and corresponding accuracy score\n",
    "print(\"Best parameters: \", grid_search.best_params_)\n",
    "print(\"Best accuracy score: \", grid_search.best_score_)"
   ]
  },
  {
   "cell_type": "code",
   "execution_count": 67,
   "id": "084cff5f",
   "metadata": {},
   "outputs": [],
   "source": [
    "clf = GaussianNB(var_smoothing= 1e-09)"
   ]
  },
  {
   "cell_type": "markdown",
   "id": "4072cbca",
   "metadata": {},
   "source": [
    "## Training Final Model"
   ]
  },
  {
   "cell_type": "code",
   "execution_count": 68,
   "id": "cce3d747",
   "metadata": {},
   "outputs": [
    {
     "data": {
      "text/html": [
       "<style>#sk-container-id-2 {color: black;background-color: white;}#sk-container-id-2 pre{padding: 0;}#sk-container-id-2 div.sk-toggleable {background-color: white;}#sk-container-id-2 label.sk-toggleable__label {cursor: pointer;display: block;width: 100%;margin-bottom: 0;padding: 0.3em;box-sizing: border-box;text-align: center;}#sk-container-id-2 label.sk-toggleable__label-arrow:before {content: \"▸\";float: left;margin-right: 0.25em;color: #696969;}#sk-container-id-2 label.sk-toggleable__label-arrow:hover:before {color: black;}#sk-container-id-2 div.sk-estimator:hover label.sk-toggleable__label-arrow:before {color: black;}#sk-container-id-2 div.sk-toggleable__content {max-height: 0;max-width: 0;overflow: hidden;text-align: left;background-color: #f0f8ff;}#sk-container-id-2 div.sk-toggleable__content pre {margin: 0.2em;color: black;border-radius: 0.25em;background-color: #f0f8ff;}#sk-container-id-2 input.sk-toggleable__control:checked~div.sk-toggleable__content {max-height: 200px;max-width: 100%;overflow: auto;}#sk-container-id-2 input.sk-toggleable__control:checked~label.sk-toggleable__label-arrow:before {content: \"▾\";}#sk-container-id-2 div.sk-estimator input.sk-toggleable__control:checked~label.sk-toggleable__label {background-color: #d4ebff;}#sk-container-id-2 div.sk-label input.sk-toggleable__control:checked~label.sk-toggleable__label {background-color: #d4ebff;}#sk-container-id-2 input.sk-hidden--visually {border: 0;clip: rect(1px 1px 1px 1px);clip: rect(1px, 1px, 1px, 1px);height: 1px;margin: -1px;overflow: hidden;padding: 0;position: absolute;width: 1px;}#sk-container-id-2 div.sk-estimator {font-family: monospace;background-color: #f0f8ff;border: 1px dotted black;border-radius: 0.25em;box-sizing: border-box;margin-bottom: 0.5em;}#sk-container-id-2 div.sk-estimator:hover {background-color: #d4ebff;}#sk-container-id-2 div.sk-parallel-item::after {content: \"\";width: 100%;border-bottom: 1px solid gray;flex-grow: 1;}#sk-container-id-2 div.sk-label:hover label.sk-toggleable__label {background-color: #d4ebff;}#sk-container-id-2 div.sk-serial::before {content: \"\";position: absolute;border-left: 1px solid gray;box-sizing: border-box;top: 0;bottom: 0;left: 50%;z-index: 0;}#sk-container-id-2 div.sk-serial {display: flex;flex-direction: column;align-items: center;background-color: white;padding-right: 0.2em;padding-left: 0.2em;position: relative;}#sk-container-id-2 div.sk-item {position: relative;z-index: 1;}#sk-container-id-2 div.sk-parallel {display: flex;align-items: stretch;justify-content: center;background-color: white;position: relative;}#sk-container-id-2 div.sk-item::before, #sk-container-id-2 div.sk-parallel-item::before {content: \"\";position: absolute;border-left: 1px solid gray;box-sizing: border-box;top: 0;bottom: 0;left: 50%;z-index: -1;}#sk-container-id-2 div.sk-parallel-item {display: flex;flex-direction: column;z-index: 1;position: relative;background-color: white;}#sk-container-id-2 div.sk-parallel-item:first-child::after {align-self: flex-end;width: 50%;}#sk-container-id-2 div.sk-parallel-item:last-child::after {align-self: flex-start;width: 50%;}#sk-container-id-2 div.sk-parallel-item:only-child::after {width: 0;}#sk-container-id-2 div.sk-dashed-wrapped {border: 1px dashed gray;margin: 0 0.4em 0.5em 0.4em;box-sizing: border-box;padding-bottom: 0.4em;background-color: white;}#sk-container-id-2 div.sk-label label {font-family: monospace;font-weight: bold;display: inline-block;line-height: 1.2em;}#sk-container-id-2 div.sk-label-container {text-align: center;}#sk-container-id-2 div.sk-container {/* jupyter's `normalize.less` sets `[hidden] { display: none; }` but bootstrap.min.css set `[hidden] { display: none !important; }` so we also need the `!important` here to be able to override the default hidden behavior on the sphinx rendered scikit-learn.org. See: https://github.com/scikit-learn/scikit-learn/issues/21755 */display: inline-block !important;position: relative;}#sk-container-id-2 div.sk-text-repr-fallback {display: none;}</style><div id=\"sk-container-id-2\" class=\"sk-top-container\"><div class=\"sk-text-repr-fallback\"><pre>GaussianNB()</pre><b>In a Jupyter environment, please rerun this cell to show the HTML representation or trust the notebook. <br />On GitHub, the HTML representation is unable to render, please try loading this page with nbviewer.org.</b></div><div class=\"sk-container\" hidden><div class=\"sk-item\"><div class=\"sk-estimator sk-toggleable\"><input class=\"sk-toggleable__control sk-hidden--visually\" id=\"sk-estimator-id-2\" type=\"checkbox\" checked><label for=\"sk-estimator-id-2\" class=\"sk-toggleable__label sk-toggleable__label-arrow\">GaussianNB</label><div class=\"sk-toggleable__content\"><pre>GaussianNB()</pre></div></div></div></div></div>"
      ],
      "text/plain": [
       "GaussianNB()"
      ]
     },
     "execution_count": 68,
     "metadata": {},
     "output_type": "execute_result"
    }
   ],
   "source": [
    "clf.fit(X_train[final_processed_features], y_train)"
   ]
  },
  {
   "cell_type": "code",
   "execution_count": 69,
   "id": "cac7eea1",
   "metadata": {},
   "outputs": [
    {
     "data": {
      "text/plain": [
       "0.8166666666666667"
      ]
     },
     "execution_count": 69,
     "metadata": {},
     "output_type": "execute_result"
    }
   ],
   "source": [
    "# Trianing Score\n",
    "clf.score(X_train[final_processed_features], y_train)"
   ]
  },
  {
   "cell_type": "code",
   "execution_count": 70,
   "id": "02daaa93",
   "metadata": {},
   "outputs": [
    {
     "data": {
      "text/plain": [
       "0.7916666666666666"
      ]
     },
     "execution_count": 70,
     "metadata": {},
     "output_type": "execute_result"
    }
   ],
   "source": [
    "# Validation Score\n",
    "clf.score(X_val[final_processed_features], y_val)"
   ]
  },
  {
   "cell_type": "code",
   "execution_count": 71,
   "id": "51507a37",
   "metadata": {},
   "outputs": [
    {
     "data": {
      "text/plain": [
       "array(['Y', 'Y', 'Y', 'Y', 'Y', 'Y', 'Y', 'N', 'Y', 'Y', 'Y', 'Y', 'N',\n",
       "       'N', 'Y', 'Y', 'Y', 'Y', 'Y', 'Y', 'Y', 'N', 'Y', 'Y', 'Y', 'N',\n",
       "       'Y', 'Y', 'Y', 'Y', 'Y', 'Y', 'Y', 'Y', 'Y', 'N', 'Y', 'Y', 'Y',\n",
       "       'Y', 'Y', 'Y', 'Y', 'Y', 'Y', 'Y', 'Y', 'Y', 'Y', 'Y', 'Y', 'Y',\n",
       "       'Y', 'Y', 'Y', 'N', 'Y', 'Y', 'N', 'Y', 'Y', 'Y', 'Y', 'N', 'N',\n",
       "       'Y', 'N', 'N', 'Y', 'N', 'Y', 'Y', 'Y', 'Y', 'Y', 'Y', 'Y', 'Y',\n",
       "       'Y', 'Y', 'N', 'Y', 'N', 'Y', 'N', 'Y', 'Y', 'Y', 'Y', 'Y', 'Y',\n",
       "       'Y', 'Y', 'Y', 'N', 'Y', 'Y', 'Y', 'Y', 'Y', 'Y', 'N', 'Y', 'Y',\n",
       "       'Y', 'Y', 'N', 'Y', 'Y', 'Y', 'Y', 'Y', 'Y', 'Y', 'Y', 'Y', 'Y',\n",
       "       'N', 'N', 'N', 'Y', 'Y', 'Y', 'N', 'N', 'Y', 'N', 'Y', 'Y', 'Y',\n",
       "       'Y', 'Y', 'Y', 'Y', 'Y', 'Y', 'Y', 'Y', 'Y', 'Y', 'N', 'Y', 'N',\n",
       "       'Y', 'Y', 'Y', 'Y', 'N', 'Y', 'Y', 'Y', 'Y', 'Y', 'N', 'Y', 'Y',\n",
       "       'Y', 'Y', 'Y', 'Y', 'Y', 'N', 'Y', 'Y', 'Y', 'N', 'N', 'Y', 'N',\n",
       "       'Y', 'Y', 'Y', 'Y', 'N', 'N', 'Y', 'Y', 'Y', 'Y', 'Y', 'Y', 'Y',\n",
       "       'Y', 'Y', 'Y', 'Y', 'Y', 'Y', 'Y', 'Y', 'Y', 'Y', 'N', 'N', 'Y',\n",
       "       'Y', 'N', 'Y', 'N', 'Y', 'Y', 'N', 'Y', 'Y', 'Y', 'Y', 'Y', 'Y',\n",
       "       'Y', 'Y', 'Y', 'N', 'Y', 'Y', 'Y', 'Y', 'Y', 'Y', 'Y', 'Y', 'Y',\n",
       "       'Y', 'Y', 'Y', 'N', 'Y', 'Y', 'Y', 'Y', 'N', 'Y', 'Y', 'Y', 'Y',\n",
       "       'Y', 'N', 'N', 'Y', 'Y', 'Y', 'Y', 'N', 'Y', 'N', 'Y', 'N', 'Y',\n",
       "       'Y', 'Y', 'Y', 'N', 'Y', 'Y', 'Y', 'Y', 'N', 'Y', 'Y', 'Y', 'Y',\n",
       "       'Y', 'Y', 'Y', 'Y', 'Y', 'Y', 'N', 'Y', 'N', 'Y', 'N', 'Y', 'Y',\n",
       "       'N', 'N', 'Y', 'Y', 'Y', 'N', 'Y', 'Y', 'Y', 'Y', 'Y', 'Y', 'Y',\n",
       "       'Y', 'Y', 'Y', 'Y', 'Y', 'Y', 'Y', 'N', 'Y', 'Y', 'Y', 'Y', 'Y',\n",
       "       'Y', 'Y', 'N', 'Y', 'Y', 'Y', 'Y', 'Y', 'Y', 'Y', 'Y', 'Y', 'N',\n",
       "       'Y', 'Y', 'Y', 'Y', 'Y', 'N', 'Y', 'Y', 'Y', 'Y', 'N', 'Y', 'Y',\n",
       "       'N', 'Y', 'Y', 'Y', 'Y', 'Y', 'Y', 'Y', 'Y', 'Y', 'Y', 'Y', 'Y',\n",
       "       'Y', 'N', 'Y', 'Y', 'N', 'Y', 'Y', 'Y', 'N', 'Y', 'Y', 'Y', 'Y',\n",
       "       'Y', 'Y', 'Y', 'N', 'Y', 'Y', 'Y', 'Y', 'Y', 'Y', 'Y', 'N', 'Y',\n",
       "       'Y', 'Y', 'Y'], dtype='<U1')"
      ]
     },
     "execution_count": 71,
     "metadata": {},
     "output_type": "execute_result"
    }
   ],
   "source": [
    "#checking predictions son Validation set\n",
    "pred_test = clf.predict(test[final_processed_features])\n",
    "pred_test"
   ]
  },
  {
   "cell_type": "code",
   "execution_count": 72,
   "id": "92824815",
   "metadata": {},
   "outputs": [
    {
     "data": {
      "text/html": [
       "<div>\n",
       "<style scoped>\n",
       "    .dataframe tbody tr th:only-of-type {\n",
       "        vertical-align: middle;\n",
       "    }\n",
       "\n",
       "    .dataframe tbody tr th {\n",
       "        vertical-align: top;\n",
       "    }\n",
       "\n",
       "    .dataframe thead th {\n",
       "        text-align: right;\n",
       "    }\n",
       "</style>\n",
       "<table border=\"1\" class=\"dataframe\">\n",
       "  <thead>\n",
       "    <tr style=\"text-align: right;\">\n",
       "      <th></th>\n",
       "      <th>Loan_ID</th>\n",
       "      <th>Loan_Status</th>\n",
       "    </tr>\n",
       "  </thead>\n",
       "  <tbody>\n",
       "    <tr>\n",
       "      <th>0</th>\n",
       "      <td>LP001015</td>\n",
       "      <td>Y</td>\n",
       "    </tr>\n",
       "    <tr>\n",
       "      <th>1</th>\n",
       "      <td>LP001022</td>\n",
       "      <td>Y</td>\n",
       "    </tr>\n",
       "    <tr>\n",
       "      <th>2</th>\n",
       "      <td>LP001031</td>\n",
       "      <td>Y</td>\n",
       "    </tr>\n",
       "    <tr>\n",
       "      <th>3</th>\n",
       "      <td>LP001035</td>\n",
       "      <td>Y</td>\n",
       "    </tr>\n",
       "    <tr>\n",
       "      <th>4</th>\n",
       "      <td>LP001051</td>\n",
       "      <td>Y</td>\n",
       "    </tr>\n",
       "  </tbody>\n",
       "</table>\n",
       "</div>"
      ],
      "text/plain": [
       "    Loan_ID Loan_Status\n",
       "0  LP001015           Y\n",
       "1  LP001022           Y\n",
       "2  LP001031           Y\n",
       "3  LP001035           Y\n",
       "4  LP001051           Y"
      ]
     },
     "execution_count": 72,
     "metadata": {},
     "output_type": "execute_result"
    }
   ],
   "source": [
    "pred_test_df = pd.DataFrame({'Loan_ID' : test_backup['Loan_ID'], 'Loan_Status' : pred_test})\n",
    "pred_test_df.head()"
   ]
  },
  {
   "cell_type": "code",
   "execution_count": 73,
   "id": "89c23b44",
   "metadata": {},
   "outputs": [],
   "source": [
    "# saving File\n",
    "pred_test_df.to_csv(\"predicted_Loan_Defaulter.csv\", index=False)"
   ]
  },
  {
   "cell_type": "code",
   "execution_count": null,
   "id": "0302dce2",
   "metadata": {},
   "outputs": [],
   "source": []
  },
  {
   "cell_type": "markdown",
   "id": "49af42d4",
   "metadata": {},
   "source": [
    "## Trying Lazy Predictor"
   ]
  },
  {
   "cell_type": "raw",
   "id": "9c04636f",
   "metadata": {},
   "source": [
    "!pip install lazypredict"
   ]
  },
  {
   "cell_type": "code",
   "execution_count": 77,
   "id": "ea9403c4",
   "metadata": {},
   "outputs": [],
   "source": [
    "import lazypredict\n",
    "from lazypredict.Supervised import LazyClassifier\n",
    "from sklearn.datasets import load_breast_cancer\n",
    "from sklearn.model_selection import train_test_split"
   ]
  },
  {
   "cell_type": "code",
   "execution_count": 79,
   "id": "28fbfb2d",
   "metadata": {},
   "outputs": [
    {
     "name": "stderr",
     "output_type": "stream",
     "text": [
      "100%|██████████████████████████████████████████████████████████████████████████████████| 29/29 [00:01<00:00, 25.33it/s]\n"
     ]
    },
    {
     "data": {
      "text/html": [
       "<div>\n",
       "<style scoped>\n",
       "    .dataframe tbody tr th:only-of-type {\n",
       "        vertical-align: middle;\n",
       "    }\n",
       "\n",
       "    .dataframe tbody tr th {\n",
       "        vertical-align: top;\n",
       "    }\n",
       "\n",
       "    .dataframe thead th {\n",
       "        text-align: right;\n",
       "    }\n",
       "</style>\n",
       "<table border=\"1\" class=\"dataframe\">\n",
       "  <thead>\n",
       "    <tr style=\"text-align: right;\">\n",
       "      <th></th>\n",
       "      <th>Accuracy</th>\n",
       "      <th>Balanced Accuracy</th>\n",
       "      <th>ROC AUC</th>\n",
       "      <th>F1 Score</th>\n",
       "      <th>Time Taken</th>\n",
       "    </tr>\n",
       "    <tr>\n",
       "      <th>Model</th>\n",
       "      <th></th>\n",
       "      <th></th>\n",
       "      <th></th>\n",
       "      <th></th>\n",
       "      <th></th>\n",
       "    </tr>\n",
       "  </thead>\n",
       "  <tbody>\n",
       "    <tr>\n",
       "      <th>AdaBoostClassifier</th>\n",
       "      <td>0.78</td>\n",
       "      <td>0.71</td>\n",
       "      <td>None</td>\n",
       "      <td>0.77</td>\n",
       "      <td>0.13</td>\n",
       "    </tr>\n",
       "    <tr>\n",
       "      <th>LGBMClassifier</th>\n",
       "      <td>0.78</td>\n",
       "      <td>0.70</td>\n",
       "      <td>None</td>\n",
       "      <td>0.77</td>\n",
       "      <td>0.14</td>\n",
       "    </tr>\n",
       "    <tr>\n",
       "      <th>BernoulliNB</th>\n",
       "      <td>0.80</td>\n",
       "      <td>0.69</td>\n",
       "      <td>None</td>\n",
       "      <td>0.77</td>\n",
       "      <td>0.02</td>\n",
       "    </tr>\n",
       "    <tr>\n",
       "      <th>LinearDiscriminantAnalysis</th>\n",
       "      <td>0.80</td>\n",
       "      <td>0.69</td>\n",
       "      <td>None</td>\n",
       "      <td>0.77</td>\n",
       "      <td>0.01</td>\n",
       "    </tr>\n",
       "    <tr>\n",
       "      <th>RidgeClassifierCV</th>\n",
       "      <td>0.80</td>\n",
       "      <td>0.69</td>\n",
       "      <td>None</td>\n",
       "      <td>0.77</td>\n",
       "      <td>0.02</td>\n",
       "    </tr>\n",
       "    <tr>\n",
       "      <th>RidgeClassifier</th>\n",
       "      <td>0.80</td>\n",
       "      <td>0.69</td>\n",
       "      <td>None</td>\n",
       "      <td>0.77</td>\n",
       "      <td>0.02</td>\n",
       "    </tr>\n",
       "    <tr>\n",
       "      <th>NuSVC</th>\n",
       "      <td>0.80</td>\n",
       "      <td>0.69</td>\n",
       "      <td>None</td>\n",
       "      <td>0.77</td>\n",
       "      <td>0.02</td>\n",
       "    </tr>\n",
       "    <tr>\n",
       "      <th>CalibratedClassifierCV</th>\n",
       "      <td>0.80</td>\n",
       "      <td>0.69</td>\n",
       "      <td>None</td>\n",
       "      <td>0.77</td>\n",
       "      <td>0.11</td>\n",
       "    </tr>\n",
       "    <tr>\n",
       "      <th>LogisticRegression</th>\n",
       "      <td>0.80</td>\n",
       "      <td>0.69</td>\n",
       "      <td>None</td>\n",
       "      <td>0.77</td>\n",
       "      <td>0.02</td>\n",
       "    </tr>\n",
       "    <tr>\n",
       "      <th>LinearSVC</th>\n",
       "      <td>0.80</td>\n",
       "      <td>0.69</td>\n",
       "      <td>None</td>\n",
       "      <td>0.77</td>\n",
       "      <td>0.03</td>\n",
       "    </tr>\n",
       "    <tr>\n",
       "      <th>GaussianNB</th>\n",
       "      <td>0.79</td>\n",
       "      <td>0.68</td>\n",
       "      <td>None</td>\n",
       "      <td>0.77</td>\n",
       "      <td>0.02</td>\n",
       "    </tr>\n",
       "    <tr>\n",
       "      <th>SVC</th>\n",
       "      <td>0.79</td>\n",
       "      <td>0.68</td>\n",
       "      <td>None</td>\n",
       "      <td>0.77</td>\n",
       "      <td>0.03</td>\n",
       "    </tr>\n",
       "    <tr>\n",
       "      <th>Perceptron</th>\n",
       "      <td>0.76</td>\n",
       "      <td>0.68</td>\n",
       "      <td>None</td>\n",
       "      <td>0.75</td>\n",
       "      <td>0.01</td>\n",
       "    </tr>\n",
       "    <tr>\n",
       "      <th>NearestCentroid</th>\n",
       "      <td>0.78</td>\n",
       "      <td>0.68</td>\n",
       "      <td>None</td>\n",
       "      <td>0.76</td>\n",
       "      <td>0.01</td>\n",
       "    </tr>\n",
       "    <tr>\n",
       "      <th>SGDClassifier</th>\n",
       "      <td>0.78</td>\n",
       "      <td>0.68</td>\n",
       "      <td>None</td>\n",
       "      <td>0.76</td>\n",
       "      <td>0.01</td>\n",
       "    </tr>\n",
       "    <tr>\n",
       "      <th>LabelSpreading</th>\n",
       "      <td>0.75</td>\n",
       "      <td>0.68</td>\n",
       "      <td>None</td>\n",
       "      <td>0.74</td>\n",
       "      <td>0.03</td>\n",
       "    </tr>\n",
       "    <tr>\n",
       "      <th>QuadraticDiscriminantAnalysis</th>\n",
       "      <td>0.78</td>\n",
       "      <td>0.67</td>\n",
       "      <td>None</td>\n",
       "      <td>0.75</td>\n",
       "      <td>0.01</td>\n",
       "    </tr>\n",
       "    <tr>\n",
       "      <th>LabelPropagation</th>\n",
       "      <td>0.74</td>\n",
       "      <td>0.67</td>\n",
       "      <td>None</td>\n",
       "      <td>0.73</td>\n",
       "      <td>0.02</td>\n",
       "    </tr>\n",
       "    <tr>\n",
       "      <th>DecisionTreeClassifier</th>\n",
       "      <td>0.71</td>\n",
       "      <td>0.66</td>\n",
       "      <td>None</td>\n",
       "      <td>0.71</td>\n",
       "      <td>0.02</td>\n",
       "    </tr>\n",
       "    <tr>\n",
       "      <th>KNeighborsClassifier</th>\n",
       "      <td>0.77</td>\n",
       "      <td>0.66</td>\n",
       "      <td>None</td>\n",
       "      <td>0.74</td>\n",
       "      <td>0.02</td>\n",
       "    </tr>\n",
       "    <tr>\n",
       "      <th>RandomForestClassifier</th>\n",
       "      <td>0.73</td>\n",
       "      <td>0.66</td>\n",
       "      <td>None</td>\n",
       "      <td>0.72</td>\n",
       "      <td>0.19</td>\n",
       "    </tr>\n",
       "    <tr>\n",
       "      <th>ExtraTreesClassifier</th>\n",
       "      <td>0.72</td>\n",
       "      <td>0.65</td>\n",
       "      <td>None</td>\n",
       "      <td>0.71</td>\n",
       "      <td>0.16</td>\n",
       "    </tr>\n",
       "    <tr>\n",
       "      <th>BaggingClassifier</th>\n",
       "      <td>0.70</td>\n",
       "      <td>0.64</td>\n",
       "      <td>None</td>\n",
       "      <td>0.70</td>\n",
       "      <td>0.05</td>\n",
       "    </tr>\n",
       "    <tr>\n",
       "      <th>ExtraTreeClassifier</th>\n",
       "      <td>0.68</td>\n",
       "      <td>0.64</td>\n",
       "      <td>None</td>\n",
       "      <td>0.69</td>\n",
       "      <td>0.01</td>\n",
       "    </tr>\n",
       "    <tr>\n",
       "      <th>PassiveAggressiveClassifier</th>\n",
       "      <td>0.63</td>\n",
       "      <td>0.59</td>\n",
       "      <td>None</td>\n",
       "      <td>0.64</td>\n",
       "      <td>0.01</td>\n",
       "    </tr>\n",
       "    <tr>\n",
       "      <th>DummyClassifier</th>\n",
       "      <td>0.69</td>\n",
       "      <td>0.50</td>\n",
       "      <td>None</td>\n",
       "      <td>0.57</td>\n",
       "      <td>0.01</td>\n",
       "    </tr>\n",
       "  </tbody>\n",
       "</table>\n",
       "</div>"
      ],
      "text/plain": [
       "                               Accuracy  Balanced Accuracy ROC AUC  F1 Score  \\\n",
       "Model                                                                          \n",
       "AdaBoostClassifier                 0.78               0.71    None      0.77   \n",
       "LGBMClassifier                     0.78               0.70    None      0.77   \n",
       "BernoulliNB                        0.80               0.69    None      0.77   \n",
       "LinearDiscriminantAnalysis         0.80               0.69    None      0.77   \n",
       "RidgeClassifierCV                  0.80               0.69    None      0.77   \n",
       "RidgeClassifier                    0.80               0.69    None      0.77   \n",
       "NuSVC                              0.80               0.69    None      0.77   \n",
       "CalibratedClassifierCV             0.80               0.69    None      0.77   \n",
       "LogisticRegression                 0.80               0.69    None      0.77   \n",
       "LinearSVC                          0.80               0.69    None      0.77   \n",
       "GaussianNB                         0.79               0.68    None      0.77   \n",
       "SVC                                0.79               0.68    None      0.77   \n",
       "Perceptron                         0.76               0.68    None      0.75   \n",
       "NearestCentroid                    0.78               0.68    None      0.76   \n",
       "SGDClassifier                      0.78               0.68    None      0.76   \n",
       "LabelSpreading                     0.75               0.68    None      0.74   \n",
       "QuadraticDiscriminantAnalysis      0.78               0.67    None      0.75   \n",
       "LabelPropagation                   0.74               0.67    None      0.73   \n",
       "DecisionTreeClassifier             0.71               0.66    None      0.71   \n",
       "KNeighborsClassifier               0.77               0.66    None      0.74   \n",
       "RandomForestClassifier             0.73               0.66    None      0.72   \n",
       "ExtraTreesClassifier               0.72               0.65    None      0.71   \n",
       "BaggingClassifier                  0.70               0.64    None      0.70   \n",
       "ExtraTreeClassifier                0.68               0.64    None      0.69   \n",
       "PassiveAggressiveClassifier        0.63               0.59    None      0.64   \n",
       "DummyClassifier                    0.69               0.50    None      0.57   \n",
       "\n",
       "                               Time Taken  \n",
       "Model                                      \n",
       "AdaBoostClassifier                   0.13  \n",
       "LGBMClassifier                       0.14  \n",
       "BernoulliNB                          0.02  \n",
       "LinearDiscriminantAnalysis           0.01  \n",
       "RidgeClassifierCV                    0.02  \n",
       "RidgeClassifier                      0.02  \n",
       "NuSVC                                0.02  \n",
       "CalibratedClassifierCV               0.11  \n",
       "LogisticRegression                   0.02  \n",
       "LinearSVC                            0.03  \n",
       "GaussianNB                           0.02  \n",
       "SVC                                  0.03  \n",
       "Perceptron                           0.01  \n",
       "NearestCentroid                      0.01  \n",
       "SGDClassifier                        0.01  \n",
       "LabelSpreading                       0.03  \n",
       "QuadraticDiscriminantAnalysis        0.01  \n",
       "LabelPropagation                     0.02  \n",
       "DecisionTreeClassifier               0.02  \n",
       "KNeighborsClassifier                 0.02  \n",
       "RandomForestClassifier               0.19  \n",
       "ExtraTreesClassifier                 0.16  \n",
       "BaggingClassifier                    0.05  \n",
       "ExtraTreeClassifier                  0.01  \n",
       "PassiveAggressiveClassifier          0.01  \n",
       "DummyClassifier                      0.01  "
      ]
     },
     "execution_count": 79,
     "metadata": {},
     "output_type": "execute_result"
    }
   ],
   "source": [
    "clf = LazyClassifier(verbose=0,ignore_warnings=True, custom_metric=None)\n",
    "models,predictions = clf.fit(X_train[final_processed_features], X_val[final_processed_features], y_train, y_val)\n",
    "models"
   ]
  },
  {
   "cell_type": "code",
   "execution_count": null,
   "id": "250c4ad0",
   "metadata": {},
   "outputs": [],
   "source": []
  }
 ],
 "metadata": {
  "kernelspec": {
   "display_name": "Python 3 (ipykernel)",
   "language": "python",
   "name": "python3"
  },
  "language_info": {
   "codemirror_mode": {
    "name": "ipython",
    "version": 3
   },
   "file_extension": ".py",
   "mimetype": "text/x-python",
   "name": "python",
   "nbconvert_exporter": "python",
   "pygments_lexer": "ipython3",
   "version": "3.9.7"
  }
 },
 "nbformat": 4,
 "nbformat_minor": 5
}
